{
 "cells": [
  {
   "cell_type": "markdown",
   "metadata": {},
   "source": [
    "# Prepare simulation"
   ]
  },
  {
   "cell_type": "markdown",
   "metadata": {},
   "source": [
    "Generate a wind history for demonstration using the example FLORIS model based on the original inputs provided by Andrew"
   ]
  },
  {
   "cell_type": "code",
   "execution_count": 1,
   "metadata": {},
   "outputs": [],
   "source": [
    "from pathlib import Path\n",
    "\n",
    "import matplotlib.pyplot as plt\n",
    "import numpy as np\n",
    "import pandas as pd\n",
    "from pyproj import Transformer\n",
    "from scipy.stats import circmean"
   ]
  },
  {
   "cell_type": "markdown",
   "metadata": {},
   "source": [
    "## Parameters"
   ]
  },
  {
   "cell_type": "code",
   "execution_count": null,
   "metadata": {},
   "outputs": [],
   "source": [
    "wind_resource_folder = Path(\"inputs/wind_resource_rex\")\n",
    "\n",
    "# Upsampled time step\n",
    "final_time_step = 1  # in seconds\n",
    "\n",
    "# Months of simulation (to save time for now in example)\n",
    "months = 1"
   ]
  },
  {
   "cell_type": "markdown",
   "metadata": {},
   "source": [
    "### Design the layout"
   ]
  },
  {
   "cell_type": "code",
   "execution_count": 3,
   "metadata": {},
   "outputs": [
    {
     "data": {
      "application/vnd.microsoft.datawrangler.viewer.v0+json": {
       "columns": [
        {
         "name": "index",
         "rawType": "int64",
         "type": "integer"
        },
        {
         "name": "id",
         "rawType": "int64",
         "type": "integer"
        },
        {
         "name": "lat",
         "rawType": "float64",
         "type": "float"
        },
        {
         "name": "lon",
         "rawType": "float64",
         "type": "float"
        }
       ],
       "conversionMethod": "pd.DataFrame",
       "ref": "d638a44f-b1bd-4583-b1ed-e0efe30c2b5e",
       "rows": [
        [
         "0",
         "2271221",
         "36.515816",
         "-97.58783"
        ],
        [
         "1",
         "2271222",
         "36.534218",
         "-97.58771"
        ],
        [
         "2",
         "2271223",
         "36.552628",
         "-97.587616"
        ],
        [
         "3",
         "2271224",
         "36.57103",
         "-97.587494"
        ],
        [
         "4",
         "2271225",
         "36.589436",
         "-97.58737"
        ],
        [
         "5",
         "2271226",
         "36.60784",
         "-97.58725"
        ],
        [
         "6",
         "2271227",
         "36.626244",
         "-97.58713"
        ],
        [
         "7",
         "2271228",
         "36.644653",
         "-97.587006"
        ],
        [
         "8",
         "2271229",
         "36.663067",
         "-97.586914"
        ],
        [
         "9",
         "2271230",
         "36.681484",
         "-97.58679"
        ],
        [
         "10",
         "2271231",
         "36.699883",
         "-97.58667"
        ],
        [
         "11",
         "2273170",
         "36.51572",
         "-97.56494"
        ],
        [
         "12",
         "2273171",
         "36.53412",
         "-97.56482"
        ],
        [
         "13",
         "2273172",
         "36.552525",
         "-97.5647"
        ],
        [
         "14",
         "2273173",
         "36.570934",
         "-97.564575"
        ],
        [
         "15",
         "2273174",
         "36.589336",
         "-97.56445"
        ],
        [
         "16",
         "2273175",
         "36.607742",
         "-97.56433"
        ],
        [
         "17",
         "2273176",
         "36.62615",
         "-97.56421"
        ],
        [
         "18",
         "2273177",
         "36.644558",
         "-97.56409"
        ],
        [
         "19",
         "2273178",
         "36.66297",
         "-97.563965"
        ],
        [
         "20",
         "2273179",
         "36.681374",
         "-97.56381"
        ],
        [
         "21",
         "2273180",
         "36.699783",
         "-97.56369"
        ],
        [
         "22",
         "2275119",
         "36.515617",
         "-97.54205"
        ],
        [
         "23",
         "2275120",
         "36.534016",
         "-97.54193"
        ],
        [
         "24",
         "2275121",
         "36.552425",
         "-97.54178"
        ],
        [
         "25",
         "2275122",
         "36.570827",
         "-97.54166"
        ],
        [
         "26",
         "2275123",
         "36.58923",
         "-97.541534"
        ],
        [
         "27",
         "2275124",
         "36.60763",
         "-97.54138"
        ],
        [
         "28",
         "2275125",
         "36.62604",
         "-97.54126"
        ],
        [
         "29",
         "2275126",
         "36.64446",
         "-97.54114"
        ],
        [
         "30",
         "2275127",
         "36.662865",
         "-97.541016"
        ],
        [
         "31",
         "2275128",
         "36.681274",
         "-97.54086"
        ],
        [
         "32",
         "2275129",
         "36.699684",
         "-97.54074"
        ],
        [
         "33",
         "2277068",
         "36.51552",
         "-97.519165"
        ],
        [
         "34",
         "2277069",
         "36.533913",
         "-97.51901"
        ],
        [
         "35",
         "2277070",
         "36.55232",
         "-97.51886"
        ],
        [
         "36",
         "2277071",
         "36.57072",
         "-97.51874"
        ],
        [
         "37",
         "2277072",
         "36.589134",
         "-97.518616"
        ],
        [
         "38",
         "2277073",
         "36.60753",
         "-97.51846"
        ],
        [
         "39",
         "2277074",
         "36.625942",
         "-97.51831"
        ],
        [
         "40",
         "2277075",
         "36.644344",
         "-97.51819"
        ],
        [
         "41",
         "2277076",
         "36.662754",
         "-97.51807"
        ],
        [
         "42",
         "2277077",
         "36.68116",
         "-97.517914"
        ],
        [
         "43",
         "2277078",
         "36.69958",
         "-97.51776"
        ],
        [
         "44",
         "2279017",
         "36.5154",
         "-97.49625"
        ],
        [
         "45",
         "2279018",
         "36.5338",
         "-97.49609"
        ],
        [
         "46",
         "2279019",
         "36.5522",
         "-97.49597"
        ],
        [
         "47",
         "2279020",
         "36.5706",
         "-97.49582"
        ],
        [
         "48",
         "2279021",
         "36.589012",
         "-97.49567"
        ],
        [
         "49",
         "2279022",
         "36.607414",
         "-97.495544"
        ]
       ],
       "shape": {
        "columns": 3,
        "rows": 100
       }
      },
      "text/html": [
       "<div>\n",
       "<style scoped>\n",
       "    .dataframe tbody tr th:only-of-type {\n",
       "        vertical-align: middle;\n",
       "    }\n",
       "\n",
       "    .dataframe tbody tr th {\n",
       "        vertical-align: top;\n",
       "    }\n",
       "\n",
       "    .dataframe thead th {\n",
       "        text-align: right;\n",
       "    }\n",
       "</style>\n",
       "<table border=\"1\" class=\"dataframe\">\n",
       "  <thead>\n",
       "    <tr style=\"text-align: right;\">\n",
       "      <th></th>\n",
       "      <th>id</th>\n",
       "      <th>lat</th>\n",
       "      <th>lon</th>\n",
       "    </tr>\n",
       "  </thead>\n",
       "  <tbody>\n",
       "    <tr>\n",
       "      <th>0</th>\n",
       "      <td>2271221</td>\n",
       "      <td>36.515816</td>\n",
       "      <td>-97.587830</td>\n",
       "    </tr>\n",
       "    <tr>\n",
       "      <th>1</th>\n",
       "      <td>2271222</td>\n",
       "      <td>36.534218</td>\n",
       "      <td>-97.587710</td>\n",
       "    </tr>\n",
       "    <tr>\n",
       "      <th>2</th>\n",
       "      <td>2271223</td>\n",
       "      <td>36.552628</td>\n",
       "      <td>-97.587616</td>\n",
       "    </tr>\n",
       "    <tr>\n",
       "      <th>3</th>\n",
       "      <td>2271224</td>\n",
       "      <td>36.571030</td>\n",
       "      <td>-97.587494</td>\n",
       "    </tr>\n",
       "    <tr>\n",
       "      <th>4</th>\n",
       "      <td>2271225</td>\n",
       "      <td>36.589436</td>\n",
       "      <td>-97.587370</td>\n",
       "    </tr>\n",
       "    <tr>\n",
       "      <th>...</th>\n",
       "      <td>...</td>\n",
       "      <td>...</td>\n",
       "      <td>...</td>\n",
       "    </tr>\n",
       "    <tr>\n",
       "      <th>95</th>\n",
       "      <td>2286820</td>\n",
       "      <td>36.643730</td>\n",
       "      <td>-97.403470</td>\n",
       "    </tr>\n",
       "    <tr>\n",
       "      <th>96</th>\n",
       "      <td>2286821</td>\n",
       "      <td>36.662140</td>\n",
       "      <td>-97.403320</td>\n",
       "    </tr>\n",
       "    <tr>\n",
       "      <th>97</th>\n",
       "      <td>2286822</td>\n",
       "      <td>36.680546</td>\n",
       "      <td>-97.403140</td>\n",
       "    </tr>\n",
       "    <tr>\n",
       "      <th>98</th>\n",
       "      <td>2286823</td>\n",
       "      <td>36.698950</td>\n",
       "      <td>-97.402954</td>\n",
       "    </tr>\n",
       "    <tr>\n",
       "      <th>99</th>\n",
       "      <td>2288762</td>\n",
       "      <td>36.514750</td>\n",
       "      <td>-97.381775</td>\n",
       "    </tr>\n",
       "  </tbody>\n",
       "</table>\n",
       "<p>100 rows × 3 columns</p>\n",
       "</div>"
      ],
      "text/plain": [
       "         id        lat        lon\n",
       "0   2271221  36.515816 -97.587830\n",
       "1   2271222  36.534218 -97.587710\n",
       "2   2271223  36.552628 -97.587616\n",
       "3   2271224  36.571030 -97.587494\n",
       "4   2271225  36.589436 -97.587370\n",
       "..      ...        ...        ...\n",
       "95  2286820  36.643730 -97.403470\n",
       "96  2286821  36.662140 -97.403320\n",
       "97  2286822  36.680546 -97.403140\n",
       "98  2286823  36.698950 -97.402954\n",
       "99  2288762  36.514750 -97.381775\n",
       "\n",
       "[100 rows x 3 columns]"
      ]
     },
     "execution_count": 3,
     "metadata": {},
     "output_type": "execute_result"
    }
   ],
   "source": [
    "# Load the grid of points\n",
    "df_grid = pd.read_csv(wind_resource_folder / \"wtk-led_coords.csv\")\n",
    "df_grid.columns = [\"id\", \"lat\", \"lon\"]\n",
    "df_grid"
   ]
  },
  {
   "cell_type": "code",
   "execution_count": 4,
   "metadata": {},
   "outputs": [],
   "source": [
    "# Convert lat/lon to easting and westing\n",
    "def latlon_to_utm(lat, lon):\n",
    "    utm_zone = int((lon + 180) / 6) + 1  # Determine UTM zone\n",
    "    hemisphere = \"north\" if lat >= 0 else \"south\"\n",
    "    proj_str = f\"epsg:326{utm_zone}\" if hemisphere == \"north\" else f\"epsg:327{utm_zone}\"\n",
    "    transformer = Transformer.from_crs(\"epsg:4326\", proj_str, always_xy=True)\n",
    "    return transformer.transform(lon, lat)\n",
    "\n",
    "\n",
    "# Apply transformation\n",
    "df_grid[[\"easting\", \"northing\"]] = df_grid.apply(\n",
    "    lambda row: latlon_to_utm(row[\"lat\"], row[\"lon\"]), axis=1, result_type=\"expand\"\n",
    ")"
   ]
  },
  {
   "cell_type": "code",
   "execution_count": 5,
   "metadata": {},
   "outputs": [
    {
     "data": {
      "text/plain": [
       "<matplotlib.collections.PathCollection at 0x1471c1050>"
      ]
     },
     "execution_count": 5,
     "metadata": {},
     "output_type": "execute_result"
    },
    {
     "data": {
      "image/png": "[encoded data removed]",
      "text/plain": [
       "<Figure size 640x480 with 1 Axes>"
      ]
     },
     "metadata": {},
     "output_type": "display_data"
    }
   ],
   "source": [
    "# Plot the grid\n",
    "fig, ax = plt.subplots()\n",
    "ax.scatter(df_grid.easting, df_grid.northing, s=1)"
   ]
  },
  {
   "cell_type": "code",
   "execution_count": 6,
   "metadata": {},
   "outputs": [
    {
     "data": {
      "text/plain": [
       "2246.4086022007978"
      ]
     },
     "execution_count": 6,
     "metadata": {},
     "output_type": "execute_result"
    }
   ],
   "source": [
    "# What is the spacing of the grid in meters?\n",
    "df_grid[\"easting\"].diff().abs().max()"
   ]
  },
  {
   "cell_type": "markdown",
   "metadata": {},
   "source": [
    "# Design a farm with 9 turbines place within the grid"
   ]
  },
  {
   "cell_type": "code",
   "execution_count": 7,
   "metadata": {},
   "outputs": [
    {
     "data": {
      "text/plain": [
       "<matplotlib.legend.Legend at 0x1473d9050>"
      ]
     },
     "execution_count": 7,
     "metadata": {},
     "output_type": "execute_result"
    },
    {
     "data": {
      "image/png": "[encoded data removed]",
      "text/plain": [
       "<Figure size 640x480 with 1 Axes>"
      ]
     },
     "metadata": {},
     "output_type": "display_data"
    }
   ],
   "source": [
    "D = 126.0\n",
    "n_turbines = 9\n",
    "np.random.seed(3)  #  Fix the seed for reproducibility\n",
    "min_x = df_grid.easting.min()\n",
    "max_x = df_grid.easting.max()\n",
    "min_y = df_grid.northing.min()\n",
    "max_y = df_grid.northing.max()\n",
    "\n",
    "# Reduce the range of max_x and max_y to half\n",
    "max_x = min_x + (max_x - min_x) / 2\n",
    "max_y = min_y + (max_y - min_y) / 2\n",
    "\n",
    "# Distribute the x values evenly and the y values randomly\n",
    "layout_x = np.linspace(min_x, max_x, n_turbines)\n",
    "layout_y = np.random.uniform(min_y, max_y, n_turbines)\n",
    "\n",
    "# Create the layout\n",
    "fig, ax = plt.subplots()\n",
    "ax.scatter(df_grid.easting, df_grid.northing, s=1)\n",
    "ax.scatter(layout_x, layout_y, s=100, color=\"red\", label=\"Turbines\")\n",
    "ax.legend()"
   ]
  },
  {
   "cell_type": "markdown",
   "metadata": {},
   "source": [
    "## Print out  layout in FLORIS ready format\n",
    "\n",
    "Then copy over to FLORIS input file (note this is already done)"
   ]
  },
  {
   "cell_type": "code",
   "execution_count": 8,
   "metadata": {},
   "outputs": [
    {
     "name": "stdout",
     "output_type": "stream",
     "text": [
      "  layout_x:\n",
      "  - 626248.7\n",
      "  - 627414.4\n",
      "  - 628580.0\n",
      "  - 629745.6\n",
      "  - 630911.2\n",
      "  - 632076.9\n",
      "  - 633242.5\n",
      "  - 634408.1\n",
      "  - 635573.7\n",
      "  layout_y:\n",
      "  - 4047756.2\n",
      "  - 4049375.0\n",
      "  - 4045082.5\n",
      "  - 4047345.0\n",
      "  - 4051276.1\n",
      "  - 4051310.6\n",
      "  - 4043381.8\n",
      "  - 4044221.8\n",
      "  - 4042619.3\n"
     ]
    }
   ],
   "source": [
    "print(\"  layout_x:\")\n",
    "for x in layout_x:\n",
    "    print(f\"  - {x:.1f}\")\n",
    "\n",
    "print(\"  layout_y:\")\n",
    "for y in layout_y:\n",
    "    print(f\"  - {y:.1f}\")"
   ]
  },
  {
   "cell_type": "markdown",
   "metadata": {},
   "source": [
    "## For each turbine find the 4 nearest points according to df_grid and their distances"
   ]
  },
  {
   "cell_type": "code",
   "execution_count": null,
   "metadata": {},
   "outputs": [
    {
     "name": "stdout",
     "output_type": "stream",
     "text": [
      "  - turbine 0:\n",
      "    - id: 2271224, distance: 479.1, weight: 0.59\n",
      "    - id: 2271223, distance: 1590.1, weight: 0.18\n",
      "    - id: 2273173, distance: 2239.5, weight: 0.13\n",
      "    - id: 2271225, distance: 2504.0, weight: 0.11\n",
      "  - turbine 1:\n",
      "    - id: 2273174, distance: 1348.6, weight: 0.27\n",
      "    - id: 2271225, distance: 1369.9, weight: 0.26\n",
      "    - id: 2273173, distance: 1531.0, weight: 0.24\n",
      "    - id: 2271224, distance: 1550.3, weight: 0.23\n",
      "  - turbine 2:\n",
      "    - id: 2273171, distance: 937.6, weight: 0.37\n",
      "    - id: 2273172, distance: 1117.1, weight: 0.31\n",
      "    - id: 2275120, distance: 2148.3, weight: 0.16\n",
      "    - id: 2275121, distance: 2234.1, weight: 0.16\n",
      "  - turbine 3:\n",
      "    - id: 2275122, distance: 1173.1, weight: 0.30\n",
      "    - id: 2275121, distance: 1364.9, weight: 0.26\n",
      "    - id: 2273173, distance: 1583.1, weight: 0.23\n",
      "    - id: 2273172, distance: 1729.6, weight: 0.21\n",
      "  - turbine 4:\n",
      "    - id: 2275123, distance: 1076.1, weight: 0.33\n",
      "    - id: 2275124, distance: 1156.9, weight: 0.30\n",
      "    - id: 2277072, distance: 1871.4, weight: 0.19\n",
      "    - id: 2277073, distance: 1922.1, weight: 0.18\n",
      "  - turbine 5:\n",
      "    - id: 2277072, distance: 1087.5, weight: 0.32\n",
      "    - id: 2277073, distance: 1129.4, weight: 0.31\n",
      "    - id: 2275123, distance: 1902.7, weight: 0.18\n",
      "    - id: 2275124, distance: 1923.6, weight: 0.18\n",
      "  - turbine 6:\n",
      "    - id: 2277069, distance: 1047.0, weight: 0.34\n",
      "    - id: 2277068, distance: 1392.4, weight: 0.25\n",
      "    - id: 2279018, distance: 1614.7, weight: 0.22\n",
      "    - id: 2279017, distance: 1856.1, weight: 0.19\n",
      "  - turbine 7:\n",
      "    - id: 2279018, distance: 221.3, weight: 0.75\n",
      "    - id: 2277069, distance: 1831.5, weight: 0.09\n",
      "    - id: 2279019, distance: 2038.6, weight: 0.08\n",
      "    - id: 2279017, distance: 2067.8, weight: 0.08\n",
      "  - turbine 8:\n",
      "    - id: 2279017, distance: 1031.2, weight: 0.34\n",
      "    - id: 2280966, distance: 1203.5, weight: 0.29\n",
      "    - id: 2279018, distance: 1849.5, weight: 0.19\n",
      "    - id: 2280967, distance: 1951.4, weight: 0.18\n"
     ]
    }
   ],
   "source": [
    "# For each turbine defined by layout_x/layout_y find the 4 nearest points according\n",
    "# to df_grid and their distances\n",
    "df_ = df_grid.copy()\n",
    "res_dict = {}\n",
    "for t_i in range(n_turbines):\n",
    "    x = layout_x[t_i]\n",
    "    y = layout_y[t_i]\n",
    "    df_[\"distances\"] = np.sqrt((df_grid.easting - x) ** 2 + (df_grid.northing - y) ** 2)\n",
    "    df_ = df_.sort_values(\"distances\")\n",
    "    indices = df_.head(4)[\"id\"]\n",
    "    distances = df_.head(4)[\"distances\"]\n",
    "    weights = 1.0 / distances\n",
    "    weights /= weights.sum()\n",
    "    res_dict[t_i] = {\"indices\": indices, \"distances\": distances, \"weights\": weights}\n",
    "\n",
    "    print(f\"  - turbine {t_i}:\")\n",
    "    for i, d, w in zip(indices, distances, weights):\n",
    "        print(f\"    - id: {i}, distance: {d:.1f}, weight: {w:.2f}\")"
   ]
  },
  {
   "cell_type": "code",
   "execution_count": 10,
   "metadata": {},
   "outputs": [
    {
     "data": {
      "image/png": "[encoded data removed]",
      "text/plain": [
       "<Figure size 640x480 with 1 Axes>"
      ]
     },
     "metadata": {},
     "output_type": "display_data"
    }
   ],
   "source": [
    "# Show the weight interpolation points\n",
    "fig, ax = plt.subplots()\n",
    "ax.scatter(df_grid.easting, df_grid.northing, s=1)\n",
    "ax.scatter(layout_x, layout_y, s=100, color=\"red\", label=\"Turbines\")\n",
    "ax.legend()\n",
    "\n",
    "for t_i in range(n_turbines):\n",
    "    x = layout_x[t_i]\n",
    "    y = layout_y[t_i]\n",
    "    indices = res_dict[t_i][\"indices\"]\n",
    "\n",
    "    for i in indices:\n",
    "        row = df_grid.loc[df_grid[\"id\"] == i]\n",
    "        ax.plot(\n",
    "            [x, row[\"easting\"].values[0]], [y, row[\"northing\"].values[0]], color=\"black\", alpha=0.1\n",
    "        )"
   ]
  },
  {
   "cell_type": "markdown",
   "metadata": {},
   "source": [
    "## Load the wind speed and direction data and project onto the turbine locations"
   ]
  },
  {
   "cell_type": "code",
   "execution_count": 11,
   "metadata": {},
   "outputs": [
    {
     "data": {
      "application/vnd.microsoft.datawrangler.viewer.v0+json": {
       "columns": [
        {
         "name": "index",
         "rawType": "int64",
         "type": "integer"
        },
        {
         "name": "time_index",
         "rawType": "object",
         "type": "string"
        },
        {
         "name": "2271221",
         "rawType": "float64",
         "type": "float"
        },
        {
         "name": "2271222",
         "rawType": "float64",
         "type": "float"
        },
        {
         "name": "2271223",
         "rawType": "float64",
         "type": "float"
        },
        {
         "name": "2271224",
         "rawType": "float64",
         "type": "float"
        },
        {
         "name": "2271225",
         "rawType": "float64",
         "type": "float"
        },
        {
         "name": "2271226",
         "rawType": "float64",
         "type": "float"
        },
        {
         "name": "2271227",
         "rawType": "float64",
         "type": "float"
        },
        {
         "name": "2271228",
         "rawType": "float64",
         "type": "float"
        },
        {
         "name": "2271229",
         "rawType": "float64",
         "type": "float"
        },
        {
         "name": "2271230",
         "rawType": "float64",
         "type": "float"
        },
        {
         "name": "2271231",
         "rawType": "float64",
         "type": "float"
        },
        {
         "name": "2273170",
         "rawType": "float64",
         "type": "float"
        },
        {
         "name": "2273171",
         "rawType": "float64",
         "type": "float"
        },
        {
         "name": "2273172",
         "rawType": "float64",
         "type": "float"
        },
        {
         "name": "2273173",
         "rawType": "float64",
         "type": "float"
        },
        {
         "name": "2273174",
         "rawType": "float64",
         "type": "float"
        },
        {
         "name": "2273175",
         "rawType": "float64",
         "type": "float"
        },
        {
         "name": "2273176",
         "rawType": "float64",
         "type": "float"
        },
        {
         "name": "2273177",
         "rawType": "float64",
         "type": "float"
        },
        {
         "name": "2273178",
         "rawType": "float64",
         "type": "float"
        },
        {
         "name": "2273179",
         "rawType": "float64",
         "type": "float"
        },
        {
         "name": "2273180",
         "rawType": "float64",
         "type": "float"
        },
        {
         "name": "2275119",
         "rawType": "float64",
         "type": "float"
        },
        {
         "name": "2275120",
         "rawType": "float64",
         "type": "float"
        },
        {
         "name": "2275121",
         "rawType": "float64",
         "type": "float"
        },
        {
         "name": "2275122",
         "rawType": "float64",
         "type": "float"
        },
        {
         "name": "2275123",
         "rawType": "float64",
         "type": "float"
        },
        {
         "name": "2275124",
         "rawType": "float64",
         "type": "float"
        },
        {
         "name": "2275125",
         "rawType": "float64",
         "type": "float"
        },
        {
         "name": "2275126",
         "rawType": "float64",
         "type": "float"
        },
        {
         "name": "2275127",
         "rawType": "float64",
         "type": "float"
        },
        {
         "name": "2275128",
         "rawType": "float64",
         "type": "float"
        },
        {
         "name": "2275129",
         "rawType": "float64",
         "type": "float"
        },
        {
         "name": "2277068",
         "rawType": "float64",
         "type": "float"
        },
        {
         "name": "2277069",
         "rawType": "float64",
         "type": "float"
        },
        {
         "name": "2277070",
         "rawType": "float64",
         "type": "float"
        },
        {
         "name": "2277071",
         "rawType": "float64",
         "type": "float"
        },
        {
         "name": "2277072",
         "rawType": "float64",
         "type": "float"
        },
        {
         "name": "2277073",
         "rawType": "float64",
         "type": "float"
        },
        {
         "name": "2277074",
         "rawType": "float64",
         "type": "float"
        },
        {
         "name": "2277075",
         "rawType": "float64",
         "type": "float"
        },
        {
         "name": "2277076",
         "rawType": "float64",
         "type": "float"
        },
        {
         "name": "2277077",
         "rawType": "float64",
         "type": "float"
        },
        {
         "name": "2277078",
         "rawType": "float64",
         "type": "float"
        },
        {
         "name": "2279017",
         "rawType": "float64",
         "type": "float"
        },
        {
         "name": "2279018",
         "rawType": "float64",
         "type": "float"
        },
        {
         "name": "2279019",
         "rawType": "float64",
         "type": "float"
        },
        {
         "name": "2279020",
         "rawType": "float64",
         "type": "float"
        },
        {
         "name": "2279021",
         "rawType": "float64",
         "type": "float"
        },
        {
         "name": "2279022",
         "rawType": "float64",
         "type": "float"
        },
        {
         "name": "2279023",
         "rawType": "float64",
         "type": "float"
        },
        {
         "name": "2279024",
         "rawType": "float64",
         "type": "float"
        },
        {
         "name": "2279025",
         "rawType": "float64",
         "type": "float"
        },
        {
         "name": "2279026",
         "rawType": "float64",
         "type": "float"
        },
        {
         "name": "2279027",
         "rawType": "float64",
         "type": "float"
        },
        {
         "name": "2280966",
         "rawType": "float64",
         "type": "float"
        },
        {
         "name": "2280967",
         "rawType": "float64",
         "type": "float"
        },
        {
         "name": "2280968",
         "rawType": "float64",
         "type": "float"
        },
        {
         "name": "2280969",
         "rawType": "float64",
         "type": "float"
        },
        {
         "name": "2280970",
         "rawType": "float64",
         "type": "float"
        },
        {
         "name": "2280971",
         "rawType": "float64",
         "type": "float"
        },
        {
         "name": "2280972",
         "rawType": "float64",
         "type": "float"
        },
        {
         "name": "2280973",
         "rawType": "float64",
         "type": "float"
        },
        {
         "name": "2280974",
         "rawType": "float64",
         "type": "float"
        },
        {
         "name": "2280975",
         "rawType": "float64",
         "type": "float"
        },
        {
         "name": "2280976",
         "rawType": "float64",
         "type": "float"
        },
        {
         "name": "2282915",
         "rawType": "float64",
         "type": "float"
        },
        {
         "name": "2282916",
         "rawType": "float64",
         "type": "float"
        },
        {
         "name": "2282917",
         "rawType": "float64",
         "type": "float"
        },
        {
         "name": "2282918",
         "rawType": "float64",
         "type": "float"
        },
        {
         "name": "2282919",
         "rawType": "float64",
         "type": "float"
        },
        {
         "name": "2282920",
         "rawType": "float64",
         "type": "float"
        },
        {
         "name": "2282921",
         "rawType": "float64",
         "type": "float"
        },
        {
         "name": "2282922",
         "rawType": "float64",
         "type": "float"
        },
        {
         "name": "2282923",
         "rawType": "float64",
         "type": "float"
        },
        {
         "name": "2282924",
         "rawType": "float64",
         "type": "float"
        },
        {
         "name": "2282925",
         "rawType": "float64",
         "type": "float"
        },
        {
         "name": "2284864",
         "rawType": "float64",
         "type": "float"
        },
        {
         "name": "2284865",
         "rawType": "float64",
         "type": "float"
        },
        {
         "name": "2284866",
         "rawType": "float64",
         "type": "float"
        },
        {
         "name": "2284867",
         "rawType": "float64",
         "type": "float"
        },
        {
         "name": "2284868",
         "rawType": "float64",
         "type": "float"
        },
        {
         "name": "2284869",
         "rawType": "float64",
         "type": "float"
        },
        {
         "name": "2284870",
         "rawType": "float64",
         "type": "float"
        },
        {
         "name": "2284871",
         "rawType": "float64",
         "type": "float"
        },
        {
         "name": "2284872",
         "rawType": "float64",
         "type": "float"
        },
        {
         "name": "2284873",
         "rawType": "float64",
         "type": "float"
        },
        {
         "name": "2284874",
         "rawType": "float64",
         "type": "float"
        },
        {
         "name": "2286813",
         "rawType": "float64",
         "type": "float"
        },
        {
         "name": "2286814",
         "rawType": "float64",
         "type": "float"
        },
        {
         "name": "2286815",
         "rawType": "float64",
         "type": "float"
        },
        {
         "name": "2286816",
         "rawType": "float64",
         "type": "float"
        },
        {
         "name": "2286817",
         "rawType": "float64",
         "type": "float"
        },
        {
         "name": "2286818",
         "rawType": "float64",
         "type": "float"
        },
        {
         "name": "2286819",
         "rawType": "float64",
         "type": "float"
        },
        {
         "name": "2286820",
         "rawType": "float64",
         "type": "float"
        },
        {
         "name": "2286821",
         "rawType": "float64",
         "type": "float"
        },
        {
         "name": "2286822",
         "rawType": "float64",
         "type": "float"
        },
        {
         "name": "2286823",
         "rawType": "float64",
         "type": "float"
        },
        {
         "name": "2288762",
         "rawType": "float64",
         "type": "float"
        }
       ],
       "conversionMethod": "pd.DataFrame",
       "ref": "192c85cf-a4fb-4759-82a9-69095b79b121",
       "rows": [
        [
         "0",
         "2020-01-01 00:00:00+00:00",
         "5.23",
         "4.96",
         "4.81",
         "5.29",
         "6.02",
         "6.14",
         "5.89",
         "6.03",
         "6.54",
         "6.44",
         "5.34",
         "5.36",
         "5.13",
         "5.04",
         "5.47",
         "6.13",
         "6.21",
         "5.99",
         "6.08",
         "6.62",
         "5.74",
         "4.49",
         "5.48",
         "5.29",
         "5.25",
         "5.57",
         "6.16",
         "6.2",
         "6.01",
         "6.21",
         "6.34",
         "4.91",
         "4.01",
         "5.6",
         "5.45",
         "5.42",
         "5.64",
         "6.06",
         "6.18",
         "5.97",
         "6.32",
         "5.76",
         "4.28",
         "3.97",
         "5.71",
         "5.62",
         "5.58",
         "5.66",
         "5.95",
         "6.1",
         "6.03",
         "6.23",
         "5.06",
         "4.01",
         "4.2",
         "5.81",
         "5.78",
         "5.69",
         "5.62",
         "5.89",
         "5.98",
         "6.27",
         "5.82",
         "4.46",
         "4.05",
         "4.55",
         "5.92",
         "5.91",
         "5.73",
         "5.63",
         "5.88",
         "6.08",
         "6.34",
         "5.16",
         "4.13",
         "4.3",
         "4.92",
         "6.02",
         "5.98",
         "5.8",
         "5.73",
         "5.94",
         "6.29",
         "5.97",
         "4.6",
         "4.17",
         "4.64",
         "5.27",
         "6.14",
         "6.07",
         "5.95",
         "5.85",
         "6.06",
         "6.19",
         "5.3",
         "4.34",
         "4.43",
         "4.97",
         "5.54",
         "6.25"
        ],
        [
         "1",
         "2020-01-01 00:05:00+00:00",
         "5.04",
         "4.75",
         "4.59",
         "5.04",
         "5.79",
         "6.01",
         "5.74",
         "5.81",
         "6.21",
         "6.51",
         "5.9",
         "5.14",
         "4.92",
         "4.82",
         "5.24",
         "5.94",
         "6.14",
         "5.86",
         "5.86",
         "6.38",
         "6.13",
         "5.04",
         "5.26",
         "5.08",
         "5.03",
         "5.38",
         "6.03",
         "6.17",
         "5.93",
         "5.93",
         "6.37",
         "5.47",
         "4.32",
         "5.39",
         "5.25",
         "5.24",
         "5.51",
         "6.04",
         "6.15",
         "5.92",
         "6.09",
         "6.08",
         "4.79",
         "4.02",
         "5.52",
         "5.45",
         "5.44",
         "5.61",
         "5.94",
         "6.1",
         "5.88",
         "6.18",
         "5.57",
         "4.33",
         "4.07",
         "5.66",
         "5.64",
         "5.6",
         "5.63",
         "5.84",
         "5.97",
         "6.01",
         "6.07",
         "4.96",
         "4.14",
         "4.34",
         "5.78",
         "5.78",
         "5.7",
         "5.62",
         "5.82",
         "5.91",
         "6.25",
         "5.67",
         "4.43",
         "4.19",
         "4.68",
         "5.87",
         "5.87",
         "5.77",
         "5.68",
         "5.87",
         "6.09",
         "6.28",
         "5.15",
         "4.21",
         "4.43",
         "5.04",
         "5.97",
         "5.97",
         "5.89",
         "5.81",
         "5.96",
         "6.26",
         "5.91",
         "4.7",
         "4.31",
         "4.75",
         "5.33",
         "6.09"
        ],
        [
         "2",
         "2020-01-01 00:10:00+00:00",
         "4.89",
         "4.61",
         "4.45",
         "4.86",
         "5.57",
         "5.87",
         "5.65",
         "5.62",
         "5.93",
         "6.38",
         "6.27",
         "4.97",
         "4.76",
         "4.67",
         "5.06",
         "5.75",
         "6.03",
         "5.76",
         "5.69",
         "6.08",
         "6.29",
         "5.64",
         "5.08",
         "4.92",
         "4.87",
         "5.22",
         "5.86",
         "6.12",
         "5.85",
         "5.72",
         "6.19",
         "5.91",
         "4.87",
         "5.2",
         "5.09",
         "5.08",
         "5.36",
         "5.92",
         "6.11",
         "5.87",
         "5.83",
         "6.16",
         "5.35",
         "4.32",
         "5.34",
         "5.29",
         "5.31",
         "5.5",
         "5.88",
         "6.05",
         "5.81",
         "5.98",
         "5.91",
         "4.83",
         "4.13",
         "5.5",
         "5.5",
         "5.5",
         "5.57",
         "5.76",
         "5.95",
         "5.82",
         "6.06",
         "5.46",
         "4.46",
         "4.23",
         "5.64",
         "5.66",
         "5.62",
         "5.58",
         "5.72",
         "5.84",
         "6.02",
         "5.97",
         "4.91",
         "4.28",
         "4.47",
         "5.74",
         "5.77",
         "5.71",
         "5.61",
         "5.76",
         "5.89",
         "6.26",
         "5.69",
         "4.5",
         "4.31",
         "4.78",
         "5.83",
         "5.87",
         "5.82",
         "5.73",
         "5.86",
         "6.1",
         "6.26",
         "5.27",
         "4.37",
         "4.53",
         "5.08",
         "5.95"
        ],
        [
         "3",
         "2020-01-01 00:15:00+00:00",
         "4.79",
         "4.55",
         "4.36",
         "4.71",
         "5.36",
         "5.69",
         "5.56",
         "5.45",
         "5.71",
         "6.13",
         "6.32",
         "4.86",
         "4.68",
         "4.58",
         "4.92",
         "5.54",
         "5.87",
         "5.67",
         "5.55",
         "5.8",
         "6.21",
         "6.04",
         "4.95",
         "4.82",
         "4.77",
         "5.07",
         "5.66",
         "5.99",
         "5.76",
         "5.58",
         "5.92",
         "6.1",
         "5.44",
         "5.06",
         "4.98",
         "4.95",
         "5.2",
         "5.73",
         "6.02",
         "5.8",
         "5.61",
         "6.01",
         "5.78",
         "4.81",
         "5.19",
         "5.17",
         "5.17",
         "5.33",
         "5.74",
         "5.97",
         "5.76",
         "5.72",
         "5.99",
         "5.35",
         "4.4",
         "5.35",
         "5.37",
         "5.37",
         "5.42",
         "5.65",
         "5.88",
         "5.71",
         "5.88",
         "5.79",
         "4.93",
         "4.28",
         "5.5",
         "5.53",
         "5.5",
         "5.47",
         "5.58",
         "5.8",
         "5.8",
         "6.0",
         "5.41",
         "4.57",
         "4.36",
         "5.61",
         "5.66",
         "5.61",
         "5.51",
         "5.62",
         "5.78",
         "6.05",
         "6.01",
         "4.99",
         "4.37",
         "4.56",
         "5.71",
         "5.77",
         "5.73",
         "5.61",
         "5.74",
         "5.91",
         "6.28",
         "5.82",
         "4.69",
         "4.4",
         "4.81",
         "5.82"
        ],
        [
         "4",
         "2020-01-01 00:20:00+00:00",
         "4.75",
         "4.55",
         "4.35",
         "4.61",
         "5.17",
         "5.49",
         "5.42",
         "5.28",
         "5.5",
         "5.86",
         "6.12",
         "4.8",
         "4.66",
         "4.55",
         "4.82",
         "5.35",
         "5.67",
         "5.55",
         "5.4",
         "5.56",
         "5.97",
         "6.11",
         "4.87",
         "4.78",
         "4.73",
         "4.97",
         "5.46",
         "5.8",
         "5.64",
         "5.44",
         "5.63",
         "6.0",
         "5.81",
         "4.97",
         "4.92",
         "4.89",
         "5.07",
         "5.52",
         "5.85",
         "5.69",
         "5.44",
         "5.73",
         "5.91",
         "5.31",
         "5.09",
         "5.1",
         "5.08",
         "5.16",
         "5.53",
         "5.82",
         "5.69",
         "5.5",
         "5.82",
         "5.69",
         "4.83",
         "5.24",
         "5.27",
         "5.24",
         "5.23",
         "5.47",
         "5.75",
         "5.64",
         "5.64",
         "5.84",
         "5.37",
         "4.54",
         "5.38",
         "5.42",
         "5.35",
         "5.29",
         "5.42",
         "5.71",
         "5.67",
         "5.84",
         "5.72",
         "5.0",
         "4.43",
         "5.5",
         "5.53",
         "5.46",
         "5.37",
         "5.45",
         "5.72",
         "5.84",
         "6.04",
         "5.48",
         "4.66",
         "4.47",
         "5.6",
         "5.66",
         "5.6",
         "5.48",
         "5.59",
         "5.8",
         "6.1",
         "6.13",
         "5.19",
         "4.47",
         "4.6",
         "5.71"
        ]
       ],
       "shape": {
        "columns": 101,
        "rows": 5
       }
      },
      "text/html": [
       "<div>\n",
       "<style scoped>\n",
       "    .dataframe tbody tr th:only-of-type {\n",
       "        vertical-align: middle;\n",
       "    }\n",
       "\n",
       "    .dataframe tbody tr th {\n",
       "        vertical-align: top;\n",
       "    }\n",
       "\n",
       "    .dataframe thead th {\n",
       "        text-align: right;\n",
       "    }\n",
       "</style>\n",
       "<table border=\"1\" class=\"dataframe\">\n",
       "  <thead>\n",
       "    <tr style=\"text-align: right;\">\n",
       "      <th></th>\n",
       "      <th>time_index</th>\n",
       "      <th>2271221</th>\n",
       "      <th>2271222</th>\n",
       "      <th>2271223</th>\n",
       "      <th>2271224</th>\n",
       "      <th>2271225</th>\n",
       "      <th>2271226</th>\n",
       "      <th>2271227</th>\n",
       "      <th>2271228</th>\n",
       "      <th>2271229</th>\n",
       "      <th>...</th>\n",
       "      <th>2286815</th>\n",
       "      <th>2286816</th>\n",
       "      <th>2286817</th>\n",
       "      <th>2286818</th>\n",
       "      <th>2286819</th>\n",
       "      <th>2286820</th>\n",
       "      <th>2286821</th>\n",
       "      <th>2286822</th>\n",
       "      <th>2286823</th>\n",
       "      <th>2288762</th>\n",
       "    </tr>\n",
       "  </thead>\n",
       "  <tbody>\n",
       "    <tr>\n",
       "      <th>0</th>\n",
       "      <td>2020-01-01 00:00:00+00:00</td>\n",
       "      <td>5.23</td>\n",
       "      <td>4.96</td>\n",
       "      <td>4.81</td>\n",
       "      <td>5.29</td>\n",
       "      <td>6.02</td>\n",
       "      <td>6.14</td>\n",
       "      <td>5.89</td>\n",
       "      <td>6.03</td>\n",
       "      <td>6.54</td>\n",
       "      <td>...</td>\n",
       "      <td>5.95</td>\n",
       "      <td>5.85</td>\n",
       "      <td>6.06</td>\n",
       "      <td>6.19</td>\n",
       "      <td>5.30</td>\n",
       "      <td>4.34</td>\n",
       "      <td>4.43</td>\n",
       "      <td>4.97</td>\n",
       "      <td>5.54</td>\n",
       "      <td>6.25</td>\n",
       "    </tr>\n",
       "    <tr>\n",
       "      <th>1</th>\n",
       "      <td>2020-01-01 00:05:00+00:00</td>\n",
       "      <td>5.04</td>\n",
       "      <td>4.75</td>\n",
       "      <td>4.59</td>\n",
       "      <td>5.04</td>\n",
       "      <td>5.79</td>\n",
       "      <td>6.01</td>\n",
       "      <td>5.74</td>\n",
       "      <td>5.81</td>\n",
       "      <td>6.21</td>\n",
       "      <td>...</td>\n",
       "      <td>5.89</td>\n",
       "      <td>5.81</td>\n",
       "      <td>5.96</td>\n",
       "      <td>6.26</td>\n",
       "      <td>5.91</td>\n",
       "      <td>4.70</td>\n",
       "      <td>4.31</td>\n",
       "      <td>4.75</td>\n",
       "      <td>5.33</td>\n",
       "      <td>6.09</td>\n",
       "    </tr>\n",
       "    <tr>\n",
       "      <th>2</th>\n",
       "      <td>2020-01-01 00:10:00+00:00</td>\n",
       "      <td>4.89</td>\n",
       "      <td>4.61</td>\n",
       "      <td>4.45</td>\n",
       "      <td>4.86</td>\n",
       "      <td>5.57</td>\n",
       "      <td>5.87</td>\n",
       "      <td>5.65</td>\n",
       "      <td>5.62</td>\n",
       "      <td>5.93</td>\n",
       "      <td>...</td>\n",
       "      <td>5.82</td>\n",
       "      <td>5.73</td>\n",
       "      <td>5.86</td>\n",
       "      <td>6.10</td>\n",
       "      <td>6.26</td>\n",
       "      <td>5.27</td>\n",
       "      <td>4.37</td>\n",
       "      <td>4.53</td>\n",
       "      <td>5.08</td>\n",
       "      <td>5.95</td>\n",
       "    </tr>\n",
       "    <tr>\n",
       "      <th>3</th>\n",
       "      <td>2020-01-01 00:15:00+00:00</td>\n",
       "      <td>4.79</td>\n",
       "      <td>4.55</td>\n",
       "      <td>4.36</td>\n",
       "      <td>4.71</td>\n",
       "      <td>5.36</td>\n",
       "      <td>5.69</td>\n",
       "      <td>5.56</td>\n",
       "      <td>5.45</td>\n",
       "      <td>5.71</td>\n",
       "      <td>...</td>\n",
       "      <td>5.73</td>\n",
       "      <td>5.61</td>\n",
       "      <td>5.74</td>\n",
       "      <td>5.91</td>\n",
       "      <td>6.28</td>\n",
       "      <td>5.82</td>\n",
       "      <td>4.69</td>\n",
       "      <td>4.40</td>\n",
       "      <td>4.81</td>\n",
       "      <td>5.82</td>\n",
       "    </tr>\n",
       "    <tr>\n",
       "      <th>4</th>\n",
       "      <td>2020-01-01 00:20:00+00:00</td>\n",
       "      <td>4.75</td>\n",
       "      <td>4.55</td>\n",
       "      <td>4.35</td>\n",
       "      <td>4.61</td>\n",
       "      <td>5.17</td>\n",
       "      <td>5.49</td>\n",
       "      <td>5.42</td>\n",
       "      <td>5.28</td>\n",
       "      <td>5.50</td>\n",
       "      <td>...</td>\n",
       "      <td>5.60</td>\n",
       "      <td>5.48</td>\n",
       "      <td>5.59</td>\n",
       "      <td>5.80</td>\n",
       "      <td>6.10</td>\n",
       "      <td>6.13</td>\n",
       "      <td>5.19</td>\n",
       "      <td>4.47</td>\n",
       "      <td>4.60</td>\n",
       "      <td>5.71</td>\n",
       "    </tr>\n",
       "  </tbody>\n",
       "</table>\n",
       "<p>5 rows × 101 columns</p>\n",
       "</div>"
      ],
      "text/plain": [
       "                  time_index  2271221  2271222  2271223  2271224  2271225  \\\n",
       "0  2020-01-01 00:00:00+00:00     5.23     4.96     4.81     5.29     6.02   \n",
       "1  2020-01-01 00:05:00+00:00     5.04     4.75     4.59     5.04     5.79   \n",
       "2  2020-01-01 00:10:00+00:00     4.89     4.61     4.45     4.86     5.57   \n",
       "3  2020-01-01 00:15:00+00:00     4.79     4.55     4.36     4.71     5.36   \n",
       "4  2020-01-01 00:20:00+00:00     4.75     4.55     4.35     4.61     5.17   \n",
       "\n",
       "   2271226  2271227  2271228  2271229  ...  2286815  2286816  2286817  \\\n",
       "0     6.14     5.89     6.03     6.54  ...     5.95     5.85     6.06   \n",
       "1     6.01     5.74     5.81     6.21  ...     5.89     5.81     5.96   \n",
       "2     5.87     5.65     5.62     5.93  ...     5.82     5.73     5.86   \n",
       "3     5.69     5.56     5.45     5.71  ...     5.73     5.61     5.74   \n",
       "4     5.49     5.42     5.28     5.50  ...     5.60     5.48     5.59   \n",
       "\n",
       "   2286818  2286819  2286820  2286821  2286822  2286823  2288762  \n",
       "0     6.19     5.30     4.34     4.43     4.97     5.54     6.25  \n",
       "1     6.26     5.91     4.70     4.31     4.75     5.33     6.09  \n",
       "2     6.10     6.26     5.27     4.37     4.53     5.08     5.95  \n",
       "3     5.91     6.28     5.82     4.69     4.40     4.81     5.82  \n",
       "4     5.80     6.10     6.13     5.19     4.47     4.60     5.71  \n",
       "\n",
       "[5 rows x 101 columns]"
      ]
     },
     "execution_count": 11,
     "metadata": {},
     "output_type": "execute_result"
    }
   ],
   "source": [
    "df_wd = pd.read_csv(wind_resource_folder / \"wdir_data_ARM-SPG_2020.csv\")\n",
    "df_ws = pd.read_csv(wind_resource_folder / \"wspd_data_ARM-SPG_2020.csv\")\n",
    "df_ws.head()"
   ]
  },
  {
   "cell_type": "code",
   "execution_count": 15,
   "metadata": {},
   "outputs": [
    {
     "data": {
      "application/vnd.microsoft.datawrangler.viewer.v0+json": {
       "columns": [
        {
         "name": "index",
         "rawType": "int64",
         "type": "integer"
        },
        {
         "name": "ws_000",
         "rawType": "float64",
         "type": "float"
        },
        {
         "name": "wd_000",
         "rawType": "float64",
         "type": "float"
        },
        {
         "name": "ws_001",
         "rawType": "float64",
         "type": "float"
        },
        {
         "name": "wd_001",
         "rawType": "float64",
         "type": "float"
        },
        {
         "name": "ws_002",
         "rawType": "float64",
         "type": "float"
        },
        {
         "name": "wd_002",
         "rawType": "float64",
         "type": "float"
        },
        {
         "name": "ws_003",
         "rawType": "float64",
         "type": "float"
        },
        {
         "name": "wd_003",
         "rawType": "float64",
         "type": "float"
        },
        {
         "name": "ws_004",
         "rawType": "float64",
         "type": "float"
        },
        {
         "name": "wd_004",
         "rawType": "float64",
         "type": "float"
        },
        {
         "name": "ws_005",
         "rawType": "float64",
         "type": "float"
        },
        {
         "name": "wd_005",
         "rawType": "float64",
         "type": "float"
        },
        {
         "name": "ws_006",
         "rawType": "float64",
         "type": "float"
        },
        {
         "name": "wd_006",
         "rawType": "float64",
         "type": "float"
        },
        {
         "name": "ws_007",
         "rawType": "float64",
         "type": "float"
        },
        {
         "name": "wd_007",
         "rawType": "float64",
         "type": "float"
        },
        {
         "name": "ws_008",
         "rawType": "float64",
         "type": "float"
        },
        {
         "name": "wd_008",
         "rawType": "float64",
         "type": "float"
        }
       ],
       "conversionMethod": "pd.DataFrame",
       "ref": "6def9a1c-4924-4e3e-86f4-b8e3b4d3c3b1",
       "rows": [
        [
         "0",
         "5.309662665529215",
         "258.39999124656026",
         "5.749735442632376",
         "258.0050000245218",
         "5.146566991385249",
         "259.854999551349",
         "5.353877289103899",
         "258.08750011778267",
         "6.157030400763898",
         "256.802498507328",
         "6.141247442412018",
         "256.802498507328",
         "5.574705446190462",
         "260.80500932277096",
         "5.608588525873144",
         "259.42758150781464",
         "5.73463467627368",
         "260.12750300191016"
        ],
        [
         "1",
         "5.069708544058151",
         "258.44493840241887",
         "5.525786602704099",
         "257.6499988800522",
         "4.9318963027507285",
         "260.6775119321577",
         "5.1407669099171125",
         "258.22499589472426",
         "6.096280663913154",
         "256.75250005832964",
         "6.096035183987466",
         "256.75250005832964",
         "5.380633744199006",
         "261.93751658924947",
         "5.436711390228126",
         "260.3827331836462",
         "5.5690488682069805",
         "261.25501204711884"
        ],
        [
         "2",
         "4.892286005878196",
         "258.01495226892735",
         "5.332566991834954",
         "257.17249903283863",
         "4.775010039403198",
         "260.3075173582362",
         "4.978315391346707",
         "257.7000024278498",
         "5.99582317680229",
         "256.2350002168921",
         "6.004433329451259",
         "256.2350002168921",
         "5.209218603259452",
         "262.1425151980625",
         "5.277546508573083",
         "260.457816057931",
         "5.405844070011496",
         "261.6100195734382"
        ],
        [
         "3",
         "4.747405735677044",
         "257.3425034139974",
         "5.153048172487539",
         "256.8875003551415",
         "4.685543999102519",
         "259.0350027230791",
         "4.856094286241026",
         "256.9275138822767",
         "5.839034571466267",
         "255.78500189540534",
         "5.8545957394889845",
         "255.78500189540534",
         "5.081810479099023",
         "261.5000009149602",
         "5.154423903905128",
         "259.85020455380834",
         "5.265119245884682",
         "261.26251496722574"
        ],
        [
         "4",
         "4.653205024772146",
         "255.87498911182624",
         "5.005232593901571",
         "256.04749581997794",
         "4.65607795880184",
         "257.09749300356856",
         "4.78630316847705",
         "255.61250425197622",
         "5.645672886057846",
         "255.62750536024276",
         "5.662512555504879",
         "255.62750536024276",
         "5.004402354938594",
         "260.12249171496507",
         "5.081301299237173",
         "258.60749792578406",
         "5.167891441709228",
         "260.1725035445488"
        ]
       ],
       "shape": {
        "columns": 18,
        "rows": 5
       }
      },
      "text/html": [
       "<div>\n",
       "<style scoped>\n",
       "    .dataframe tbody tr th:only-of-type {\n",
       "        vertical-align: middle;\n",
       "    }\n",
       "\n",
       "    .dataframe tbody tr th {\n",
       "        vertical-align: top;\n",
       "    }\n",
       "\n",
       "    .dataframe thead th {\n",
       "        text-align: right;\n",
       "    }\n",
       "</style>\n",
       "<table border=\"1\" class=\"dataframe\">\n",
       "  <thead>\n",
       "    <tr style=\"text-align: right;\">\n",
       "      <th></th>\n",
       "      <th>ws_000</th>\n",
       "      <th>wd_000</th>\n",
       "      <th>ws_001</th>\n",
       "      <th>wd_001</th>\n",
       "      <th>ws_002</th>\n",
       "      <th>wd_002</th>\n",
       "      <th>ws_003</th>\n",
       "      <th>wd_003</th>\n",
       "      <th>ws_004</th>\n",
       "      <th>wd_004</th>\n",
       "      <th>ws_005</th>\n",
       "      <th>wd_005</th>\n",
       "      <th>ws_006</th>\n",
       "      <th>wd_006</th>\n",
       "      <th>ws_007</th>\n",
       "      <th>wd_007</th>\n",
       "      <th>ws_008</th>\n",
       "      <th>wd_008</th>\n",
       "    </tr>\n",
       "  </thead>\n",
       "  <tbody>\n",
       "    <tr>\n",
       "      <th>0</th>\n",
       "      <td>5.309663</td>\n",
       "      <td>258.399991</td>\n",
       "      <td>5.749735</td>\n",
       "      <td>258.005000</td>\n",
       "      <td>5.146567</td>\n",
       "      <td>259.855000</td>\n",
       "      <td>5.353877</td>\n",
       "      <td>258.087500</td>\n",
       "      <td>6.157030</td>\n",
       "      <td>256.802499</td>\n",
       "      <td>6.141247</td>\n",
       "      <td>256.802499</td>\n",
       "      <td>5.574705</td>\n",
       "      <td>260.805009</td>\n",
       "      <td>5.608589</td>\n",
       "      <td>259.427582</td>\n",
       "      <td>5.734635</td>\n",
       "      <td>260.127503</td>\n",
       "    </tr>\n",
       "    <tr>\n",
       "      <th>1</th>\n",
       "      <td>5.069709</td>\n",
       "      <td>258.444938</td>\n",
       "      <td>5.525787</td>\n",
       "      <td>257.649999</td>\n",
       "      <td>4.931896</td>\n",
       "      <td>260.677512</td>\n",
       "      <td>5.140767</td>\n",
       "      <td>258.224996</td>\n",
       "      <td>6.096281</td>\n",
       "      <td>256.752500</td>\n",
       "      <td>6.096035</td>\n",
       "      <td>256.752500</td>\n",
       "      <td>5.380634</td>\n",
       "      <td>261.937517</td>\n",
       "      <td>5.436711</td>\n",
       "      <td>260.382733</td>\n",
       "      <td>5.569049</td>\n",
       "      <td>261.255012</td>\n",
       "    </tr>\n",
       "    <tr>\n",
       "      <th>2</th>\n",
       "      <td>4.892286</td>\n",
       "      <td>258.014952</td>\n",
       "      <td>5.332567</td>\n",
       "      <td>257.172499</td>\n",
       "      <td>4.775010</td>\n",
       "      <td>260.307517</td>\n",
       "      <td>4.978315</td>\n",
       "      <td>257.700002</td>\n",
       "      <td>5.995823</td>\n",
       "      <td>256.235000</td>\n",
       "      <td>6.004433</td>\n",
       "      <td>256.235000</td>\n",
       "      <td>5.209219</td>\n",
       "      <td>262.142515</td>\n",
       "      <td>5.277547</td>\n",
       "      <td>260.457816</td>\n",
       "      <td>5.405844</td>\n",
       "      <td>261.610020</td>\n",
       "    </tr>\n",
       "    <tr>\n",
       "      <th>3</th>\n",
       "      <td>4.747406</td>\n",
       "      <td>257.342503</td>\n",
       "      <td>5.153048</td>\n",
       "      <td>256.887500</td>\n",
       "      <td>4.685544</td>\n",
       "      <td>259.035003</td>\n",
       "      <td>4.856094</td>\n",
       "      <td>256.927514</td>\n",
       "      <td>5.839035</td>\n",
       "      <td>255.785002</td>\n",
       "      <td>5.854596</td>\n",
       "      <td>255.785002</td>\n",
       "      <td>5.081810</td>\n",
       "      <td>261.500001</td>\n",
       "      <td>5.154424</td>\n",
       "      <td>259.850205</td>\n",
       "      <td>5.265119</td>\n",
       "      <td>261.262515</td>\n",
       "    </tr>\n",
       "    <tr>\n",
       "      <th>4</th>\n",
       "      <td>4.653205</td>\n",
       "      <td>255.874989</td>\n",
       "      <td>5.005233</td>\n",
       "      <td>256.047496</td>\n",
       "      <td>4.656078</td>\n",
       "      <td>257.097493</td>\n",
       "      <td>4.786303</td>\n",
       "      <td>255.612504</td>\n",
       "      <td>5.645673</td>\n",
       "      <td>255.627505</td>\n",
       "      <td>5.662513</td>\n",
       "      <td>255.627505</td>\n",
       "      <td>5.004402</td>\n",
       "      <td>260.122492</td>\n",
       "      <td>5.081301</td>\n",
       "      <td>258.607498</td>\n",
       "      <td>5.167891</td>\n",
       "      <td>260.172504</td>\n",
       "    </tr>\n",
       "  </tbody>\n",
       "</table>\n",
       "</div>"
      ],
      "text/plain": [
       "     ws_000      wd_000    ws_001      wd_001    ws_002      wd_002    ws_003  \\\n",
       "0  5.309663  258.399991  5.749735  258.005000  5.146567  259.855000  5.353877   \n",
       "1  5.069709  258.444938  5.525787  257.649999  4.931896  260.677512  5.140767   \n",
       "2  4.892286  258.014952  5.332567  257.172499  4.775010  260.307517  4.978315   \n",
       "3  4.747406  257.342503  5.153048  256.887500  4.685544  259.035003  4.856094   \n",
       "4  4.653205  255.874989  5.005233  256.047496  4.656078  257.097493  4.786303   \n",
       "\n",
       "       wd_003    ws_004      wd_004    ws_005      wd_005    ws_006  \\\n",
       "0  258.087500  6.157030  256.802499  6.141247  256.802499  5.574705   \n",
       "1  258.224996  6.096281  256.752500  6.096035  256.752500  5.380634   \n",
       "2  257.700002  5.995823  256.235000  6.004433  256.235000  5.209219   \n",
       "3  256.927514  5.839035  255.785002  5.854596  255.785002  5.081810   \n",
       "4  255.612504  5.645673  255.627505  5.662513  255.627505  5.004402   \n",
       "\n",
       "       wd_006    ws_007      wd_007    ws_008      wd_008  \n",
       "0  260.805009  5.608589  259.427582  5.734635  260.127503  \n",
       "1  261.937517  5.436711  260.382733  5.569049  261.255012  \n",
       "2  262.142515  5.277547  260.457816  5.405844  261.610020  \n",
       "3  261.500001  5.154424  259.850205  5.265119  261.262515  \n",
       "4  260.122492  5.081301  258.607498  5.167891  260.172504  "
      ]
     },
     "execution_count": 15,
     "metadata": {},
     "output_type": "execute_result"
    }
   ],
   "source": [
    "# Build up the wind speed at each turbine location by interpolating the 4 nearest points\n",
    "df_turbine_input = pd.DataFrame()\n",
    "for i in range(n_turbines):\n",
    "    indices = res_dict[i][\"indices\"].values.tolist()\n",
    "    indices = [str(i) for i in indices]  # Convert to strings\n",
    "    weights = res_dict[i][\"weights\"].values\n",
    "\n",
    "    df_sub_ws = df_ws[indices]\n",
    "    ws_t_temp = (df_sub_ws * weights).sum(axis=1)\n",
    "    df_turbine_input[f\"ws_{i:03d}\"] = ws_t_temp\n",
    "\n",
    "    # Same for wind direction but use circular mean\n",
    "    df_sub_wd = df_wd[indices]\n",
    "    wd_t_temp = df_sub_wd.apply(lambda x: circmean(x, high=360, low=0, nan_policy=\"omit\"), axis=1)\n",
    "    df_turbine_input[f\"wd_{i:03d}\"] = wd_t_temp\n",
    "\n",
    "df_turbine_input.head()"
   ]
  },
  {
   "cell_type": "code",
   "execution_count": null,
   "metadata": {},
   "outputs": [
    {
     "data": {
      "application/vnd.microsoft.datawrangler.viewer.v0+json": {
       "columns": [
        {
         "name": "index",
         "rawType": "int64",
         "type": "integer"
        },
        {
         "name": "time",
         "rawType": "float64",
         "type": "float"
        },
        {
         "name": "time_utc",
         "rawType": "datetime64[ns, UTC]",
         "type": "unknown"
        },
        {
         "name": "ws_000",
         "rawType": "float64",
         "type": "float"
        },
        {
         "name": "wd_000",
         "rawType": "float64",
         "type": "float"
        },
        {
         "name": "ws_001",
         "rawType": "float64",
         "type": "float"
        },
        {
         "name": "wd_001",
         "rawType": "float64",
         "type": "float"
        },
        {
         "name": "ws_002",
         "rawType": "float64",
         "type": "float"
        },
        {
         "name": "wd_002",
         "rawType": "float64",
         "type": "float"
        },
        {
         "name": "ws_003",
         "rawType": "float64",
         "type": "float"
        },
        {
         "name": "wd_003",
         "rawType": "float64",
         "type": "float"
        },
        {
         "name": "ws_004",
         "rawType": "float64",
         "type": "float"
        },
        {
         "name": "wd_004",
         "rawType": "float64",
         "type": "float"
        },
        {
         "name": "ws_005",
         "rawType": "float64",
         "type": "float"
        },
        {
         "name": "wd_005",
         "rawType": "float64",
         "type": "float"
        },
        {
         "name": "ws_006",
         "rawType": "float64",
         "type": "float"
        },
        {
         "name": "wd_006",
         "rawType": "float64",
         "type": "float"
        },
        {
         "name": "ws_007",
         "rawType": "float64",
         "type": "float"
        },
        {
         "name": "wd_007",
         "rawType": "float64",
         "type": "float"
        },
        {
         "name": "ws_008",
         "rawType": "float64",
         "type": "float"
        },
        {
         "name": "wd_008",
         "rawType": "float64",
         "type": "float"
        },
        {
         "name": "ti_000",
         "rawType": "float64",
         "type": "float"
        },
        {
         "name": "ti_001",
         "rawType": "float64",
         "type": "float"
        },
        {
         "name": "ti_002",
         "rawType": "float64",
         "type": "float"
        },
        {
         "name": "ti_003",
         "rawType": "float64",
         "type": "float"
        },
        {
         "name": "ti_004",
         "rawType": "float64",
         "type": "float"
        },
        {
         "name": "ti_005",
         "rawType": "float64",
         "type": "float"
        },
        {
         "name": "ti_006",
         "rawType": "float64",
         "type": "float"
        },
        {
         "name": "ti_007",
         "rawType": "float64",
         "type": "float"
        },
        {
         "name": "ti_008",
         "rawType": "float64",
         "type": "float"
        }
       ],
       "conversionMethod": "pd.DataFrame",
       "ref": "500a6e1f-6099-4767-a302-69acd5a19cbf",
       "rows": [
        [
         "0",
         "0.0",
         "2020-01-01 00:00:00+00:00",
         "5.309662665529215",
         "258.39999124656026",
         "5.749735442632376",
         "258.0050000245218",
         "5.146566991385249",
         "259.854999551349",
         "5.353877289103899",
         "258.08750011778267",
         "6.157030400763898",
         "256.802498507328",
         "6.141247442412018",
         "256.802498507328",
         "5.574705446190462",
         "260.80500932277096",
         "5.608588525873144",
         "259.42758150781464",
         "5.73463467627368",
         "260.12750300191016",
         "0.06",
         "0.06",
         "0.06",
         "0.06",
         "0.06",
         "0.06",
         "0.06",
         "0.06",
         "0.06"
        ],
        [
         "1",
         "300.0",
         "2020-01-01 00:05:00+00:00",
         "5.069708544058151",
         "258.44493840241887",
         "5.525786602704099",
         "257.6499988800522",
         "4.9318963027507285",
         "260.6775119321577",
         "5.1407669099171125",
         "258.22499589472426",
         "6.096280663913154",
         "256.75250005832964",
         "6.096035183987466",
         "256.75250005832964",
         "5.380633744199006",
         "261.93751658924947",
         "5.436711390228126",
         "260.3827331836462",
         "5.5690488682069805",
         "261.25501204711884",
         "0.06",
         "0.06",
         "0.06",
         "0.06",
         "0.06",
         "0.06",
         "0.06",
         "0.06",
         "0.06"
        ],
        [
         "2",
         "600.0",
         "2020-01-01 00:10:00+00:00",
         "4.892286005878196",
         "258.01495226892735",
         "5.332566991834954",
         "257.17249903283863",
         "4.775010039403198",
         "260.3075173582362",
         "4.978315391346707",
         "257.7000024278498",
         "5.99582317680229",
         "256.2350002168921",
         "6.004433329451259",
         "256.2350002168921",
         "5.209218603259452",
         "262.1425151980625",
         "5.277546508573083",
         "260.457816057931",
         "5.405844070011496",
         "261.6100195734382",
         "0.06",
         "0.06",
         "0.06",
         "0.06",
         "0.06",
         "0.06",
         "0.06",
         "0.06",
         "0.06"
        ],
        [
         "3",
         "900.0",
         "2020-01-01 00:15:00+00:00",
         "4.747405735677044",
         "257.3425034139974",
         "5.153048172487539",
         "256.8875003551415",
         "4.685543999102519",
         "259.0350027230791",
         "4.856094286241026",
         "256.9275138822767",
         "5.839034571466267",
         "255.78500189540534",
         "5.8545957394889845",
         "255.78500189540534",
         "5.081810479099023",
         "261.5000009149602",
         "5.154423903905128",
         "259.85020455380834",
         "5.265119245884682",
         "261.26251496722574",
         "0.06",
         "0.06",
         "0.06",
         "0.06",
         "0.06",
         "0.06",
         "0.06",
         "0.06",
         "0.06"
        ],
        [
         "4",
         "1200.0",
         "2020-01-01 00:20:00+00:00",
         "4.653205024772146",
         "255.87498911182624",
         "5.005232593901571",
         "256.04749581997794",
         "4.65607795880184",
         "257.09749300356856",
         "4.78630316847705",
         "255.61250425197622",
         "5.645672886057846",
         "255.62750536024276",
         "5.662512555504879",
         "255.62750536024276",
         "5.004402354938594",
         "260.12249171496507",
         "5.081301299237173",
         "258.60749792578406",
         "5.167891441709228",
         "260.1725035445488",
         "0.06",
         "0.06",
         "0.06",
         "0.06",
         "0.06",
         "0.06",
         "0.06",
         "0.06",
         "0.06"
        ]
       ],
       "shape": {
        "columns": 29,
        "rows": 5
       }
      },
      "text/html": [
       "<div>\n",
       "<style scoped>\n",
       "    .dataframe tbody tr th:only-of-type {\n",
       "        vertical-align: middle;\n",
       "    }\n",
       "\n",
       "    .dataframe tbody tr th {\n",
       "        vertical-align: top;\n",
       "    }\n",
       "\n",
       "    .dataframe thead th {\n",
       "        text-align: right;\n",
       "    }\n",
       "</style>\n",
       "<table border=\"1\" class=\"dataframe\">\n",
       "  <thead>\n",
       "    <tr style=\"text-align: right;\">\n",
       "      <th></th>\n",
       "      <th>time</th>\n",
       "      <th>time_utc</th>\n",
       "      <th>ws_000</th>\n",
       "      <th>wd_000</th>\n",
       "      <th>ws_001</th>\n",
       "      <th>wd_001</th>\n",
       "      <th>ws_002</th>\n",
       "      <th>wd_002</th>\n",
       "      <th>ws_003</th>\n",
       "      <th>wd_003</th>\n",
       "      <th>...</th>\n",
       "      <th>wd_008</th>\n",
       "      <th>ti_000</th>\n",
       "      <th>ti_001</th>\n",
       "      <th>ti_002</th>\n",
       "      <th>ti_003</th>\n",
       "      <th>ti_004</th>\n",
       "      <th>ti_005</th>\n",
       "      <th>ti_006</th>\n",
       "      <th>ti_007</th>\n",
       "      <th>ti_008</th>\n",
       "    </tr>\n",
       "  </thead>\n",
       "  <tbody>\n",
       "    <tr>\n",
       "      <th>0</th>\n",
       "      <td>0.0</td>\n",
       "      <td>2020-01-01 00:00:00+00:00</td>\n",
       "      <td>5.309663</td>\n",
       "      <td>258.399991</td>\n",
       "      <td>5.749735</td>\n",
       "      <td>258.005000</td>\n",
       "      <td>5.146567</td>\n",
       "      <td>259.855000</td>\n",
       "      <td>5.353877</td>\n",
       "      <td>258.087500</td>\n",
       "      <td>...</td>\n",
       "      <td>260.127503</td>\n",
       "      <td>0.06</td>\n",
       "      <td>0.06</td>\n",
       "      <td>0.06</td>\n",
       "      <td>0.06</td>\n",
       "      <td>0.06</td>\n",
       "      <td>0.06</td>\n",
       "      <td>0.06</td>\n",
       "      <td>0.06</td>\n",
       "      <td>0.06</td>\n",
       "    </tr>\n",
       "    <tr>\n",
       "      <th>1</th>\n",
       "      <td>300.0</td>\n",
       "      <td>2020-01-01 00:05:00+00:00</td>\n",
       "      <td>5.069709</td>\n",
       "      <td>258.444938</td>\n",
       "      <td>5.525787</td>\n",
       "      <td>257.649999</td>\n",
       "      <td>4.931896</td>\n",
       "      <td>260.677512</td>\n",
       "      <td>5.140767</td>\n",
       "      <td>258.224996</td>\n",
       "      <td>...</td>\n",
       "      <td>261.255012</td>\n",
       "      <td>0.06</td>\n",
       "      <td>0.06</td>\n",
       "      <td>0.06</td>\n",
       "      <td>0.06</td>\n",
       "      <td>0.06</td>\n",
       "      <td>0.06</td>\n",
       "      <td>0.06</td>\n",
       "      <td>0.06</td>\n",
       "      <td>0.06</td>\n",
       "    </tr>\n",
       "    <tr>\n",
       "      <th>2</th>\n",
       "      <td>600.0</td>\n",
       "      <td>2020-01-01 00:10:00+00:00</td>\n",
       "      <td>4.892286</td>\n",
       "      <td>258.014952</td>\n",
       "      <td>5.332567</td>\n",
       "      <td>257.172499</td>\n",
       "      <td>4.775010</td>\n",
       "      <td>260.307517</td>\n",
       "      <td>4.978315</td>\n",
       "      <td>257.700002</td>\n",
       "      <td>...</td>\n",
       "      <td>261.610020</td>\n",
       "      <td>0.06</td>\n",
       "      <td>0.06</td>\n",
       "      <td>0.06</td>\n",
       "      <td>0.06</td>\n",
       "      <td>0.06</td>\n",
       "      <td>0.06</td>\n",
       "      <td>0.06</td>\n",
       "      <td>0.06</td>\n",
       "      <td>0.06</td>\n",
       "    </tr>\n",
       "    <tr>\n",
       "      <th>3</th>\n",
       "      <td>900.0</td>\n",
       "      <td>2020-01-01 00:15:00+00:00</td>\n",
       "      <td>4.747406</td>\n",
       "      <td>257.342503</td>\n",
       "      <td>5.153048</td>\n",
       "      <td>256.887500</td>\n",
       "      <td>4.685544</td>\n",
       "      <td>259.035003</td>\n",
       "      <td>4.856094</td>\n",
       "      <td>256.927514</td>\n",
       "      <td>...</td>\n",
       "      <td>261.262515</td>\n",
       "      <td>0.06</td>\n",
       "      <td>0.06</td>\n",
       "      <td>0.06</td>\n",
       "      <td>0.06</td>\n",
       "      <td>0.06</td>\n",
       "      <td>0.06</td>\n",
       "      <td>0.06</td>\n",
       "      <td>0.06</td>\n",
       "      <td>0.06</td>\n",
       "    </tr>\n",
       "    <tr>\n",
       "      <th>4</th>\n",
       "      <td>1200.0</td>\n",
       "      <td>2020-01-01 00:20:00+00:00</td>\n",
       "      <td>4.653205</td>\n",
       "      <td>255.874989</td>\n",
       "      <td>5.005233</td>\n",
       "      <td>256.047496</td>\n",
       "      <td>4.656078</td>\n",
       "      <td>257.097493</td>\n",
       "      <td>4.786303</td>\n",
       "      <td>255.612504</td>\n",
       "      <td>...</td>\n",
       "      <td>260.172504</td>\n",
       "      <td>0.06</td>\n",
       "      <td>0.06</td>\n",
       "      <td>0.06</td>\n",
       "      <td>0.06</td>\n",
       "      <td>0.06</td>\n",
       "      <td>0.06</td>\n",
       "      <td>0.06</td>\n",
       "      <td>0.06</td>\n",
       "      <td>0.06</td>\n",
       "    </tr>\n",
       "  </tbody>\n",
       "</table>\n",
       "<p>5 rows × 29 columns</p>\n",
       "</div>"
      ],
      "text/plain": [
       "     time                  time_utc    ws_000      wd_000    ws_001  \\\n",
       "0     0.0 2020-01-01 00:00:00+00:00  5.309663  258.399991  5.749735   \n",
       "1   300.0 2020-01-01 00:05:00+00:00  5.069709  258.444938  5.525787   \n",
       "2   600.0 2020-01-01 00:10:00+00:00  4.892286  258.014952  5.332567   \n",
       "3   900.0 2020-01-01 00:15:00+00:00  4.747406  257.342503  5.153048   \n",
       "4  1200.0 2020-01-01 00:20:00+00:00  4.653205  255.874989  5.005233   \n",
       "\n",
       "       wd_001    ws_002      wd_002    ws_003      wd_003  ...      wd_008  \\\n",
       "0  258.005000  5.146567  259.855000  5.353877  258.087500  ...  260.127503   \n",
       "1  257.649999  4.931896  260.677512  5.140767  258.224996  ...  261.255012   \n",
       "2  257.172499  4.775010  260.307517  4.978315  257.700002  ...  261.610020   \n",
       "3  256.887500  4.685544  259.035003  4.856094  256.927514  ...  261.262515   \n",
       "4  256.047496  4.656078  257.097493  4.786303  255.612504  ...  260.172504   \n",
       "\n",
       "   ti_000  ti_001  ti_002  ti_003  ti_004  ti_005  ti_006  ti_007  ti_008  \n",
       "0    0.06    0.06    0.06    0.06    0.06    0.06    0.06    0.06    0.06  \n",
       "1    0.06    0.06    0.06    0.06    0.06    0.06    0.06    0.06    0.06  \n",
       "2    0.06    0.06    0.06    0.06    0.06    0.06    0.06    0.06    0.06  \n",
       "3    0.06    0.06    0.06    0.06    0.06    0.06    0.06    0.06    0.06  \n",
       "4    0.06    0.06    0.06    0.06    0.06    0.06    0.06    0.06    0.06  \n",
       "\n",
       "[5 rows x 29 columns]"
      ]
     },
     "execution_count": 16,
     "metadata": {},
     "output_type": "execute_result"
    }
   ],
   "source": [
    "#  Complete the dataframe by adding place holder TI information for now\n",
    "for i in range(n_turbines):\n",
    "    df_turbine_input[f\"ti_{i:03d}\"] = 0.06\n",
    "\n",
    "# Add the time_utc column as a column\n",
    "df_turbine_input.insert(0, \"time_utc\", df_ws[\"time_index\"])\n",
    "\n",
    "# Set the Timestamp as pd.Datetime\n",
    "df_turbine_input[\"time_utc\"] = pd.to_datetime(df_turbine_input[\"time_utc\"])\n",
    "\n",
    "# Add the time column in seconds\n",
    "df_turbine_input[\"time\"] = (\n",
    "    df_turbine_input[\"time_utc\"] - df_turbine_input[\"time_utc\"].min()\n",
    ").dt.total_seconds()\n",
    "\n",
    "# Reset indices\n",
    "df_turbine_input = df_turbine_input.reset_index(drop=True)\n",
    "\n",
    "# Make the time, and time_utc columns the the first and second columns\n",
    "df_turbine_input = df_turbine_input[\n",
    "    [\"time\", \"time_utc\"]\n",
    "    + [col for col in df_turbine_input.columns if col not in [\"time\", \"time_utc\"]]\n",
    "]\n",
    "\n",
    "# Show the results\n",
    "df_turbine_input.head()"
   ]
  },
  {
   "cell_type": "code",
   "execution_count": 17,
   "metadata": {},
   "outputs": [
    {
     "name": "stdout",
     "output_type": "stream",
     "text": [
      "Reduced the number of rows from 105408 to 8928\n"
     ]
    }
   ],
   "source": [
    "# Limit to the requested number of months\n",
    "start_time = df_turbine_input[\"time_utc\"].min()\n",
    "end_time = start_time + pd.DateOffset(months=months)\n",
    "initial_num_rows = df_turbine_input.shape[0]\n",
    "df_turbine_input = df_turbine_input[\n",
    "    (df_turbine_input[\"time_utc\"] >= start_time) & (df_turbine_input[\"time_utc\"] < end_time)\n",
    "]\n",
    "print(f\"Reduced the number of rows from {initial_num_rows} to {df_turbine_input.shape[0]}\")"
   ]
  },
  {
   "cell_type": "markdown",
   "metadata": {},
   "source": [
    "# Compare the wind speeds and directions of turbines 0/9 at other ends of farm"
   ]
  },
  {
   "cell_type": "code",
   "execution_count": 18,
   "metadata": {},
   "outputs": [
    {
     "data": {
      "image/png": "[encoded data removed]",
      "text/plain": [
       "<Figure size 1000x600 with 2 Axes>"
      ]
     },
     "metadata": {},
     "output_type": "display_data"
    }
   ],
   "source": [
    "fig, axarr = plt.subplots(2, 1, sharex=True, figsize=(10, 6))\n",
    "for i in [0, 8]:\n",
    "    ax = axarr[0]\n",
    "    ax.plot(df_turbine_input[\"time_utc\"], df_turbine_input[f\"ws_{i:03d}\"], label=f\"Turbine {i}\")\n",
    "    ax.set_ylabel(\"Wind Speed [m/s]\")\n",
    "    ax.legend()\n",
    "\n",
    "    ax = axarr[1]\n",
    "    ax.plot(df_turbine_input[\"time_utc\"], df_turbine_input[f\"wd_{i:03d}\"], label=f\"Turbine {i}\")\n",
    "    ax.set_ylabel(\"Wind Direction [deg]\")\n",
    "    ax.set_xlabel(\"Time\")"
   ]
  },
  {
   "cell_type": "code",
   "execution_count": null,
   "metadata": {},
   "outputs": [
    {
     "data": {
      "image/png": "[encoded data removed]",
      "text/plain": [
       "<Figure size 1000x600 with 2 Axes>"
      ]
     },
     "metadata": {},
     "output_type": "display_data"
    }
   ],
   "source": [
    "# Repeat above showing only the first day\n",
    "fig, axarr = plt.subplots(2, 1, sharex=True, figsize=(10, 6))\n",
    "\n",
    "length_of_day = 24 * 12\n",
    "\n",
    "for i in [0, 8]:\n",
    "    ax = axarr[0]\n",
    "    ax.plot(\n",
    "        df_turbine_input[\"time_utc\"].iloc[:length_of_day],\n",
    "        df_turbine_input[f\"ws_{i:03d}\"].iloc[:length_of_day],\n",
    "        label=f\"Turbine {i}\",\n",
    "    )\n",
    "    ax.set_ylabel(\"Wind Speed [m/s]\")\n",
    "    ax.legend()\n",
    "\n",
    "    ax = axarr[1]\n",
    "    ax.plot(\n",
    "        df_turbine_input[\"time_utc\"].iloc[:length_of_day],\n",
    "        df_turbine_input[f\"wd_{i:03d}\"].iloc[:length_of_day],\n",
    "        label=f\"Turbine {i}\",\n",
    "    )\n",
    "    ax.set_ylabel(\"Wind Direction [deg]\")\n",
    "    ax.set_xlabel(\"Time\")"
   ]
  },
  {
   "cell_type": "markdown",
   "metadata": {},
   "source": [
    "# Fake upsampling\n",
    "\n",
    "Upsample through basically random noise, this should be improved upon"
   ]
  },
  {
   "cell_type": "code",
   "execution_count": 20,
   "metadata": {},
   "outputs": [],
   "source": [
    "# Set the timestamp as the index\n",
    "df_turbine_input = df_turbine_input.set_index(\"time_utc\")"
   ]
  },
  {
   "cell_type": "code",
   "execution_count": 21,
   "metadata": {},
   "outputs": [
    {
     "data": {
      "application/vnd.microsoft.datawrangler.viewer.v0+json": {
       "columns": [
        {
         "name": "time_utc",
         "rawType": "datetime64[ns, UTC]",
         "type": "unknown"
        },
        {
         "name": "time",
         "rawType": "float64",
         "type": "float"
        },
        {
         "name": "ws_000",
         "rawType": "float64",
         "type": "float"
        },
        {
         "name": "wd_000",
         "rawType": "float64",
         "type": "float"
        },
        {
         "name": "ws_001",
         "rawType": "float64",
         "type": "float"
        },
        {
         "name": "wd_001",
         "rawType": "float64",
         "type": "float"
        },
        {
         "name": "ws_002",
         "rawType": "float64",
         "type": "float"
        },
        {
         "name": "wd_002",
         "rawType": "float64",
         "type": "float"
        },
        {
         "name": "ws_003",
         "rawType": "float64",
         "type": "float"
        },
        {
         "name": "wd_003",
         "rawType": "float64",
         "type": "float"
        },
        {
         "name": "ws_004",
         "rawType": "float64",
         "type": "float"
        },
        {
         "name": "wd_004",
         "rawType": "float64",
         "type": "float"
        },
        {
         "name": "ws_005",
         "rawType": "float64",
         "type": "float"
        },
        {
         "name": "wd_005",
         "rawType": "float64",
         "type": "float"
        },
        {
         "name": "ws_006",
         "rawType": "float64",
         "type": "float"
        },
        {
         "name": "wd_006",
         "rawType": "float64",
         "type": "float"
        },
        {
         "name": "ws_007",
         "rawType": "float64",
         "type": "float"
        },
        {
         "name": "wd_007",
         "rawType": "float64",
         "type": "float"
        },
        {
         "name": "ws_008",
         "rawType": "float64",
         "type": "float"
        },
        {
         "name": "wd_008",
         "rawType": "float64",
         "type": "float"
        },
        {
         "name": "ti_000",
         "rawType": "float64",
         "type": "float"
        },
        {
         "name": "ti_001",
         "rawType": "float64",
         "type": "float"
        },
        {
         "name": "ti_002",
         "rawType": "float64",
         "type": "float"
        },
        {
         "name": "ti_003",
         "rawType": "float64",
         "type": "float"
        },
        {
         "name": "ti_004",
         "rawType": "float64",
         "type": "float"
        },
        {
         "name": "ti_005",
         "rawType": "float64",
         "type": "float"
        },
        {
         "name": "ti_006",
         "rawType": "float64",
         "type": "float"
        },
        {
         "name": "ti_007",
         "rawType": "float64",
         "type": "float"
        },
        {
         "name": "ti_008",
         "rawType": "float64",
         "type": "float"
        }
       ],
       "conversionMethod": "pd.DataFrame",
       "ref": "1206850c-c76a-445b-a1b7-8b4dad8e1656",
       "rows": [
        [
         "2020-01-01 00:00:00+00:00",
         "0.0",
         "5.309662665529215",
         "258.39999124656026",
         "5.749735442632376",
         "258.0050000245218",
         "5.146566991385249",
         "259.854999551349",
         "5.353877289103899",
         "258.08750011778267",
         "6.157030400763898",
         "256.802498507328",
         "6.141247442412018",
         "256.802498507328",
         "5.574705446190462",
         "260.80500932277096",
         "5.608588525873144",
         "259.42758150781464",
         "5.73463467627368",
         "260.12750300191016",
         "0.06",
         "0.06",
         "0.06",
         "0.06",
         "0.06",
         "0.06",
         "0.06",
         "0.06",
         "0.06"
        ],
        [
         "2020-01-01 00:00:01+00:00",
         "0.0",
         "5.309662665529215",
         "258.39999124656026",
         "5.749735442632376",
         "258.0050000245218",
         "5.146566991385249",
         "259.854999551349",
         "5.353877289103899",
         "258.08750011778267",
         "6.157030400763898",
         "256.802498507328",
         "6.141247442412018",
         "256.802498507328",
         "5.574705446190462",
         "260.80500932277096",
         "5.608588525873144",
         "259.42758150781464",
         "5.73463467627368",
         "260.12750300191016",
         "0.06",
         "0.06",
         "0.06",
         "0.06",
         "0.06",
         "0.06",
         "0.06",
         "0.06",
         "0.06"
        ],
        [
         "2020-01-01 00:00:02+00:00",
         "0.0",
         "5.309662665529215",
         "258.39999124656026",
         "5.749735442632376",
         "258.0050000245218",
         "5.146566991385249",
         "259.854999551349",
         "5.353877289103899",
         "258.08750011778267",
         "6.157030400763898",
         "256.802498507328",
         "6.141247442412018",
         "256.802498507328",
         "5.574705446190462",
         "260.80500932277096",
         "5.608588525873144",
         "259.42758150781464",
         "5.73463467627368",
         "260.12750300191016",
         "0.06",
         "0.06",
         "0.06",
         "0.06",
         "0.06",
         "0.06",
         "0.06",
         "0.06",
         "0.06"
        ],
        [
         "2020-01-01 00:00:03+00:00",
         "0.0",
         "5.309662665529215",
         "258.39999124656026",
         "5.749735442632376",
         "258.0050000245218",
         "5.146566991385249",
         "259.854999551349",
         "5.353877289103899",
         "258.08750011778267",
         "6.157030400763898",
         "256.802498507328",
         "6.141247442412018",
         "256.802498507328",
         "5.574705446190462",
         "260.80500932277096",
         "5.608588525873144",
         "259.42758150781464",
         "5.73463467627368",
         "260.12750300191016",
         "0.06",
         "0.06",
         "0.06",
         "0.06",
         "0.06",
         "0.06",
         "0.06",
         "0.06",
         "0.06"
        ],
        [
         "2020-01-01 00:00:04+00:00",
         "0.0",
         "5.309662665529215",
         "258.39999124656026",
         "5.749735442632376",
         "258.0050000245218",
         "5.146566991385249",
         "259.854999551349",
         "5.353877289103899",
         "258.08750011778267",
         "6.157030400763898",
         "256.802498507328",
         "6.141247442412018",
         "256.802498507328",
         "5.574705446190462",
         "260.80500932277096",
         "5.608588525873144",
         "259.42758150781464",
         "5.73463467627368",
         "260.12750300191016",
         "0.06",
         "0.06",
         "0.06",
         "0.06",
         "0.06",
         "0.06",
         "0.06",
         "0.06",
         "0.06"
        ]
       ],
       "shape": {
        "columns": 28,
        "rows": 5
       }
      },
      "text/html": [
       "<div>\n",
       "<style scoped>\n",
       "    .dataframe tbody tr th:only-of-type {\n",
       "        vertical-align: middle;\n",
       "    }\n",
       "\n",
       "    .dataframe tbody tr th {\n",
       "        vertical-align: top;\n",
       "    }\n",
       "\n",
       "    .dataframe thead th {\n",
       "        text-align: right;\n",
       "    }\n",
       "</style>\n",
       "<table border=\"1\" class=\"dataframe\">\n",
       "  <thead>\n",
       "    <tr style=\"text-align: right;\">\n",
       "      <th></th>\n",
       "      <th>time</th>\n",
       "      <th>ws_000</th>\n",
       "      <th>wd_000</th>\n",
       "      <th>ws_001</th>\n",
       "      <th>wd_001</th>\n",
       "      <th>ws_002</th>\n",
       "      <th>wd_002</th>\n",
       "      <th>ws_003</th>\n",
       "      <th>wd_003</th>\n",
       "      <th>ws_004</th>\n",
       "      <th>...</th>\n",
       "      <th>wd_008</th>\n",
       "      <th>ti_000</th>\n",
       "      <th>ti_001</th>\n",
       "      <th>ti_002</th>\n",
       "      <th>ti_003</th>\n",
       "      <th>ti_004</th>\n",
       "      <th>ti_005</th>\n",
       "      <th>ti_006</th>\n",
       "      <th>ti_007</th>\n",
       "      <th>ti_008</th>\n",
       "    </tr>\n",
       "    <tr>\n",
       "      <th>time_utc</th>\n",
       "      <th></th>\n",
       "      <th></th>\n",
       "      <th></th>\n",
       "      <th></th>\n",
       "      <th></th>\n",
       "      <th></th>\n",
       "      <th></th>\n",
       "      <th></th>\n",
       "      <th></th>\n",
       "      <th></th>\n",
       "      <th></th>\n",
       "      <th></th>\n",
       "      <th></th>\n",
       "      <th></th>\n",
       "      <th></th>\n",
       "      <th></th>\n",
       "      <th></th>\n",
       "      <th></th>\n",
       "      <th></th>\n",
       "      <th></th>\n",
       "      <th></th>\n",
       "    </tr>\n",
       "  </thead>\n",
       "  <tbody>\n",
       "    <tr>\n",
       "      <th>2020-01-01 00:00:00+00:00</th>\n",
       "      <td>0.0</td>\n",
       "      <td>5.309663</td>\n",
       "      <td>258.399991</td>\n",
       "      <td>5.749735</td>\n",
       "      <td>258.005</td>\n",
       "      <td>5.146567</td>\n",
       "      <td>259.855</td>\n",
       "      <td>5.353877</td>\n",
       "      <td>258.0875</td>\n",
       "      <td>6.15703</td>\n",
       "      <td>...</td>\n",
       "      <td>260.127503</td>\n",
       "      <td>0.06</td>\n",
       "      <td>0.06</td>\n",
       "      <td>0.06</td>\n",
       "      <td>0.06</td>\n",
       "      <td>0.06</td>\n",
       "      <td>0.06</td>\n",
       "      <td>0.06</td>\n",
       "      <td>0.06</td>\n",
       "      <td>0.06</td>\n",
       "    </tr>\n",
       "    <tr>\n",
       "      <th>2020-01-01 00:00:01+00:00</th>\n",
       "      <td>0.0</td>\n",
       "      <td>5.309663</td>\n",
       "      <td>258.399991</td>\n",
       "      <td>5.749735</td>\n",
       "      <td>258.005</td>\n",
       "      <td>5.146567</td>\n",
       "      <td>259.855</td>\n",
       "      <td>5.353877</td>\n",
       "      <td>258.0875</td>\n",
       "      <td>6.15703</td>\n",
       "      <td>...</td>\n",
       "      <td>260.127503</td>\n",
       "      <td>0.06</td>\n",
       "      <td>0.06</td>\n",
       "      <td>0.06</td>\n",
       "      <td>0.06</td>\n",
       "      <td>0.06</td>\n",
       "      <td>0.06</td>\n",
       "      <td>0.06</td>\n",
       "      <td>0.06</td>\n",
       "      <td>0.06</td>\n",
       "    </tr>\n",
       "    <tr>\n",
       "      <th>2020-01-01 00:00:02+00:00</th>\n",
       "      <td>0.0</td>\n",
       "      <td>5.309663</td>\n",
       "      <td>258.399991</td>\n",
       "      <td>5.749735</td>\n",
       "      <td>258.005</td>\n",
       "      <td>5.146567</td>\n",
       "      <td>259.855</td>\n",
       "      <td>5.353877</td>\n",
       "      <td>258.0875</td>\n",
       "      <td>6.15703</td>\n",
       "      <td>...</td>\n",
       "      <td>260.127503</td>\n",
       "      <td>0.06</td>\n",
       "      <td>0.06</td>\n",
       "      <td>0.06</td>\n",
       "      <td>0.06</td>\n",
       "      <td>0.06</td>\n",
       "      <td>0.06</td>\n",
       "      <td>0.06</td>\n",
       "      <td>0.06</td>\n",
       "      <td>0.06</td>\n",
       "    </tr>\n",
       "    <tr>\n",
       "      <th>2020-01-01 00:00:03+00:00</th>\n",
       "      <td>0.0</td>\n",
       "      <td>5.309663</td>\n",
       "      <td>258.399991</td>\n",
       "      <td>5.749735</td>\n",
       "      <td>258.005</td>\n",
       "      <td>5.146567</td>\n",
       "      <td>259.855</td>\n",
       "      <td>5.353877</td>\n",
       "      <td>258.0875</td>\n",
       "      <td>6.15703</td>\n",
       "      <td>...</td>\n",
       "      <td>260.127503</td>\n",
       "      <td>0.06</td>\n",
       "      <td>0.06</td>\n",
       "      <td>0.06</td>\n",
       "      <td>0.06</td>\n",
       "      <td>0.06</td>\n",
       "      <td>0.06</td>\n",
       "      <td>0.06</td>\n",
       "      <td>0.06</td>\n",
       "      <td>0.06</td>\n",
       "    </tr>\n",
       "    <tr>\n",
       "      <th>2020-01-01 00:00:04+00:00</th>\n",
       "      <td>0.0</td>\n",
       "      <td>5.309663</td>\n",
       "      <td>258.399991</td>\n",
       "      <td>5.749735</td>\n",
       "      <td>258.005</td>\n",
       "      <td>5.146567</td>\n",
       "      <td>259.855</td>\n",
       "      <td>5.353877</td>\n",
       "      <td>258.0875</td>\n",
       "      <td>6.15703</td>\n",
       "      <td>...</td>\n",
       "      <td>260.127503</td>\n",
       "      <td>0.06</td>\n",
       "      <td>0.06</td>\n",
       "      <td>0.06</td>\n",
       "      <td>0.06</td>\n",
       "      <td>0.06</td>\n",
       "      <td>0.06</td>\n",
       "      <td>0.06</td>\n",
       "      <td>0.06</td>\n",
       "      <td>0.06</td>\n",
       "    </tr>\n",
       "  </tbody>\n",
       "</table>\n",
       "<p>5 rows × 28 columns</p>\n",
       "</div>"
      ],
      "text/plain": [
       "                           time    ws_000      wd_000    ws_001   wd_001  \\\n",
       "time_utc                                                                   \n",
       "2020-01-01 00:00:00+00:00   0.0  5.309663  258.399991  5.749735  258.005   \n",
       "2020-01-01 00:00:01+00:00   0.0  5.309663  258.399991  5.749735  258.005   \n",
       "2020-01-01 00:00:02+00:00   0.0  5.309663  258.399991  5.749735  258.005   \n",
       "2020-01-01 00:00:03+00:00   0.0  5.309663  258.399991  5.749735  258.005   \n",
       "2020-01-01 00:00:04+00:00   0.0  5.309663  258.399991  5.749735  258.005   \n",
       "\n",
       "                             ws_002   wd_002    ws_003    wd_003   ws_004  \\\n",
       "time_utc                                                                    \n",
       "2020-01-01 00:00:00+00:00  5.146567  259.855  5.353877  258.0875  6.15703   \n",
       "2020-01-01 00:00:01+00:00  5.146567  259.855  5.353877  258.0875  6.15703   \n",
       "2020-01-01 00:00:02+00:00  5.146567  259.855  5.353877  258.0875  6.15703   \n",
       "2020-01-01 00:00:03+00:00  5.146567  259.855  5.353877  258.0875  6.15703   \n",
       "2020-01-01 00:00:04+00:00  5.146567  259.855  5.353877  258.0875  6.15703   \n",
       "\n",
       "                           ...      wd_008  ti_000  ti_001  ti_002  ti_003  \\\n",
       "time_utc                   ...                                               \n",
       "2020-01-01 00:00:00+00:00  ...  260.127503    0.06    0.06    0.06    0.06   \n",
       "2020-01-01 00:00:01+00:00  ...  260.127503    0.06    0.06    0.06    0.06   \n",
       "2020-01-01 00:00:02+00:00  ...  260.127503    0.06    0.06    0.06    0.06   \n",
       "2020-01-01 00:00:03+00:00  ...  260.127503    0.06    0.06    0.06    0.06   \n",
       "2020-01-01 00:00:04+00:00  ...  260.127503    0.06    0.06    0.06    0.06   \n",
       "\n",
       "                           ti_004  ti_005  ti_006  ti_007  ti_008  \n",
       "time_utc                                                           \n",
       "2020-01-01 00:00:00+00:00    0.06    0.06    0.06    0.06    0.06  \n",
       "2020-01-01 00:00:01+00:00    0.06    0.06    0.06    0.06    0.06  \n",
       "2020-01-01 00:00:02+00:00    0.06    0.06    0.06    0.06    0.06  \n",
       "2020-01-01 00:00:03+00:00    0.06    0.06    0.06    0.06    0.06  \n",
       "2020-01-01 00:00:04+00:00    0.06    0.06    0.06    0.06    0.06  \n",
       "\n",
       "[5 rows x 28 columns]"
      ]
     },
     "execution_count": 21,
     "metadata": {},
     "output_type": "execute_result"
    }
   ],
   "source": [
    "# Upsample to final_time_step second intervals from 5 minutes\n",
    "df_turbine_input = df_turbine_input.resample(f\"{int(final_time_step)}s\").ffill().bfill()\n",
    "\n",
    "df_turbine_input.head()"
   ]
  },
  {
   "cell_type": "markdown",
   "metadata": {},
   "source": [
    "### Now add random noise to each ws/wd column"
   ]
  },
  {
   "cell_type": "code",
   "execution_count": 22,
   "metadata": {},
   "outputs": [],
   "source": [
    "ws_std = 0.25\n",
    "wd_std = 0.5\n",
    "\n",
    "ws_columns = [col for col in df_turbine_input.columns if col.startswith(\"ws_\")]\n",
    "wd_columns = [col for col in df_turbine_input.columns if col.startswith(\"wd_\")]\n",
    "\n",
    "df_turbine_input[ws_columns] += np.random.normal(0, ws_std, df_turbine_input[ws_columns].shape)\n",
    "df_turbine_input[wd_columns] = (\n",
    "    df_turbine_input[wd_columns] + np.random.normal(0, wd_std, df_turbine_input[wd_columns].shape)\n",
    ") % 360.0"
   ]
  },
  {
   "cell_type": "code",
   "execution_count": null,
   "metadata": {},
   "outputs": [],
   "source": [
    "# Set TimeStamp as a column again and redo the time column\n",
    "df_turbine_input = df_turbine_input.reset_index()\n",
    "\n",
    "# Add the time column in seconds\n",
    "df_turbine_input[\"time\"] = (\n",
    "    df_turbine_input[\"time_utc\"] - df_turbine_input[\"time_utc\"].min()\n",
    ").dt.total_seconds()"
   ]
  },
  {
   "cell_type": "code",
   "execution_count": 24,
   "metadata": {},
   "outputs": [
    {
     "data": {
      "image/png": "[encoded data removed]",
      "text/plain": [
       "<Figure size 1000x600 with 2 Axes>"
      ]
     },
     "metadata": {},
     "output_type": "display_data"
    }
   ],
   "source": [
    "# Show the first day again\n",
    "\n",
    "# Repeat above showing only the first day\n",
    "fig, axarr = plt.subplots(2, 1, sharex=True, figsize=(10, 6))\n",
    "\n",
    "for i in [0, 8]:\n",
    "    ax = axarr[0]\n",
    "    ax.plot(\n",
    "        df_turbine_input[\"time_utc\"].iloc[: 60 * 60 * 24],\n",
    "        df_turbine_input[f\"ws_{i:03d}\"].iloc[: 60 * 60 * 24],\n",
    "        label=f\"Turbine {i}\",\n",
    "    )\n",
    "    ax.set_ylabel(\"Wind Speed [m/s]\")\n",
    "    ax.legend()\n",
    "\n",
    "    ax = axarr[1]\n",
    "    ax.plot(\n",
    "        df_turbine_input[\"time_utc\"].iloc[: 60 * 60 * 24],\n",
    "        df_turbine_input[f\"wd_{i:03d}\"].iloc[: 60 * 60 * 24],\n",
    "        label=f\"Turbine {i}\",\n",
    "    )\n",
    "    ax.set_ylabel(\"Wind Direction [deg]\")\n",
    "    ax.set_xlabel(\"Time\")"
   ]
  },
  {
   "cell_type": "markdown",
   "metadata": {},
   "source": [
    "## Save the data"
   ]
  },
  {
   "cell_type": "markdown",
   "metadata": {},
   "source": [
    "Note this is somewhat slow"
   ]
  },
  {
   "cell_type": "code",
   "execution_count": 25,
   "metadata": {},
   "outputs": [
    {
     "data": {
      "application/vnd.microsoft.datawrangler.viewer.v0+json": {
       "columns": [
        {
         "name": "index",
         "rawType": "int64",
         "type": "integer"
        },
        {
         "name": "time_utc",
         "rawType": "datetime64[ns, UTC]",
         "type": "unknown"
        },
        {
         "name": "time",
         "rawType": "float64",
         "type": "float"
        },
        {
         "name": "ws_000",
         "rawType": "float64",
         "type": "float"
        },
        {
         "name": "wd_000",
         "rawType": "float64",
         "type": "float"
        },
        {
         "name": "ws_001",
         "rawType": "float64",
         "type": "float"
        },
        {
         "name": "wd_001",
         "rawType": "float64",
         "type": "float"
        },
        {
         "name": "ws_002",
         "rawType": "float64",
         "type": "float"
        },
        {
         "name": "wd_002",
         "rawType": "float64",
         "type": "float"
        },
        {
         "name": "ws_003",
         "rawType": "float64",
         "type": "float"
        },
        {
         "name": "wd_003",
         "rawType": "float64",
         "type": "float"
        },
        {
         "name": "ws_004",
         "rawType": "float64",
         "type": "float"
        },
        {
         "name": "wd_004",
         "rawType": "float64",
         "type": "float"
        },
        {
         "name": "ws_005",
         "rawType": "float64",
         "type": "float"
        },
        {
         "name": "wd_005",
         "rawType": "float64",
         "type": "float"
        },
        {
         "name": "ws_006",
         "rawType": "float64",
         "type": "float"
        },
        {
         "name": "wd_006",
         "rawType": "float64",
         "type": "float"
        },
        {
         "name": "ws_007",
         "rawType": "float64",
         "type": "float"
        },
        {
         "name": "wd_007",
         "rawType": "float64",
         "type": "float"
        },
        {
         "name": "ws_008",
         "rawType": "float64",
         "type": "float"
        },
        {
         "name": "wd_008",
         "rawType": "float64",
         "type": "float"
        },
        {
         "name": "ti_000",
         "rawType": "float64",
         "type": "float"
        },
        {
         "name": "ti_001",
         "rawType": "float64",
         "type": "float"
        },
        {
         "name": "ti_002",
         "rawType": "float64",
         "type": "float"
        },
        {
         "name": "ti_003",
         "rawType": "float64",
         "type": "float"
        },
        {
         "name": "ti_004",
         "rawType": "float64",
         "type": "float"
        },
        {
         "name": "ti_005",
         "rawType": "float64",
         "type": "float"
        },
        {
         "name": "ti_006",
         "rawType": "float64",
         "type": "float"
        },
        {
         "name": "ti_007",
         "rawType": "float64",
         "type": "float"
        },
        {
         "name": "ti_008",
         "rawType": "float64",
         "type": "float"
        }
       ],
       "conversionMethod": "pd.DataFrame",
       "ref": "fa904d32-9dd2-4dd5-8754-c0300d655ec6",
       "rows": [
        [
         "0",
         "2020-01-01 00:00:00+00:00",
         "0.0",
         "5.194652135363544",
         "257.86649614601725",
         "5.735255232483787",
         "257.55645858027765",
         "5.665960525663457",
         "260.0361397212774",
         "5.2035491700566165",
         "258.0519703668872",
         "6.391839498094976",
         "257.4207226699184",
         "5.846145288517619",
         "257.1454393900736",
         "5.487872902292659",
         "259.92948299498767",
         "5.625163209251551",
         "258.79401946049876",
         "5.32773835647196",
         "260.24490615950015",
         "0.06",
         "0.06",
         "0.06",
         "0.06",
         "0.06",
         "0.06",
         "0.06",
         "0.06",
         "0.06"
        ],
        [
         "1",
         "2020-01-01 00:00:01+00:00",
         "1.0",
         "5.409134130560355",
         "258.1251695588339",
         "5.342446085486472",
         "257.2524534379969",
         "4.986833110087753",
         "259.2154108582877",
         "5.213674821686343",
         "257.2219812223918",
         "6.611776048017621",
         "256.6039371729335",
         "6.180390585236702",
         "257.65898240605685",
         "5.273886397694215",
         "260.93081856694135",
         "5.432573674639946",
         "258.94599846647014",
         "5.989439787002047",
         "260.4858703794903",
         "0.06",
         "0.06",
         "0.06",
         "0.06",
         "0.06",
         "0.06",
         "0.06",
         "0.06",
         "0.06"
        ],
        [
         "2",
         "2020-01-01 00:00:02+00:00",
         "2.0",
         "5.176005125250588",
         "258.2464342325827",
         "5.418013203172721",
         "258.0102402505718",
         "5.313580095080515",
         "259.354649985512",
         "5.425346740499307",
         "258.24093613079634",
         "6.06436158441126",
         "256.8051414053476",
         "6.4038602225140355",
         "256.82460629631413",
         "5.640033572030482",
         "261.56123319490166",
         "5.434939208115166",
         "259.30406443924426",
         "5.228461690899813",
         "260.0951859610112",
         "0.06",
         "0.06",
         "0.06",
         "0.06",
         "0.06",
         "0.06",
         "0.06",
         "0.06",
         "0.06"
        ],
        [
         "3",
         "2020-01-01 00:00:03+00:00",
         "3.0",
         "5.521150954364934",
         "258.63903631325155",
         "5.631097128264192",
         "257.6788998294757",
         "4.797625603824913",
         "259.1698205595765",
         "4.920681174352011",
         "258.30785127804967",
         "6.098724343501232",
         "256.146422229929",
         "6.0491257759842165",
         "256.49826529455873",
         "5.12141392068154",
         "261.1944019465004",
         "5.672222411079805",
         "259.39996076345386",
         "6.000621935150653",
         "260.60558135190814",
         "0.06",
         "0.06",
         "0.06",
         "0.06",
         "0.06",
         "0.06",
         "0.06",
         "0.06",
         "0.06"
        ],
        [
         "4",
         "2020-01-01 00:00:04+00:00",
         "4.0",
         "5.062259620709616",
         "258.5021404152943",
         "5.508472671189394",
         "257.6223769747156",
         "4.791141309680645",
         "260.0418127633993",
         "5.299128320677545",
         "258.0351371466952",
         "6.173865075494941",
         "256.27098887535755",
         "5.783059281282329",
         "257.5331982513539",
         "5.566024293485427",
         "261.3225365115202",
         "5.3902856872724705",
         "260.09819436298477",
         "6.082229963416316",
         "259.6579864210541",
         "0.06",
         "0.06",
         "0.06",
         "0.06",
         "0.06",
         "0.06",
         "0.06",
         "0.06",
         "0.06"
        ]
       ],
       "shape": {
        "columns": 29,
        "rows": 5
       }
      },
      "text/html": [
       "<div>\n",
       "<style scoped>\n",
       "    .dataframe tbody tr th:only-of-type {\n",
       "        vertical-align: middle;\n",
       "    }\n",
       "\n",
       "    .dataframe tbody tr th {\n",
       "        vertical-align: top;\n",
       "    }\n",
       "\n",
       "    .dataframe thead th {\n",
       "        text-align: right;\n",
       "    }\n",
       "</style>\n",
       "<table border=\"1\" class=\"dataframe\">\n",
       "  <thead>\n",
       "    <tr style=\"text-align: right;\">\n",
       "      <th></th>\n",
       "      <th>time_utc</th>\n",
       "      <th>time</th>\n",
       "      <th>ws_000</th>\n",
       "      <th>wd_000</th>\n",
       "      <th>ws_001</th>\n",
       "      <th>wd_001</th>\n",
       "      <th>ws_002</th>\n",
       "      <th>wd_002</th>\n",
       "      <th>ws_003</th>\n",
       "      <th>wd_003</th>\n",
       "      <th>...</th>\n",
       "      <th>wd_008</th>\n",
       "      <th>ti_000</th>\n",
       "      <th>ti_001</th>\n",
       "      <th>ti_002</th>\n",
       "      <th>ti_003</th>\n",
       "      <th>ti_004</th>\n",
       "      <th>ti_005</th>\n",
       "      <th>ti_006</th>\n",
       "      <th>ti_007</th>\n",
       "      <th>ti_008</th>\n",
       "    </tr>\n",
       "  </thead>\n",
       "  <tbody>\n",
       "    <tr>\n",
       "      <th>0</th>\n",
       "      <td>2020-01-01 00:00:00+00:00</td>\n",
       "      <td>0.0</td>\n",
       "      <td>5.194652</td>\n",
       "      <td>257.866496</td>\n",
       "      <td>5.735255</td>\n",
       "      <td>257.556459</td>\n",
       "      <td>5.665961</td>\n",
       "      <td>260.036140</td>\n",
       "      <td>5.203549</td>\n",
       "      <td>258.051970</td>\n",
       "      <td>...</td>\n",
       "      <td>260.244906</td>\n",
       "      <td>0.06</td>\n",
       "      <td>0.06</td>\n",
       "      <td>0.06</td>\n",
       "      <td>0.06</td>\n",
       "      <td>0.06</td>\n",
       "      <td>0.06</td>\n",
       "      <td>0.06</td>\n",
       "      <td>0.06</td>\n",
       "      <td>0.06</td>\n",
       "    </tr>\n",
       "    <tr>\n",
       "      <th>1</th>\n",
       "      <td>2020-01-01 00:00:01+00:00</td>\n",
       "      <td>1.0</td>\n",
       "      <td>5.409134</td>\n",
       "      <td>258.125170</td>\n",
       "      <td>5.342446</td>\n",
       "      <td>257.252453</td>\n",
       "      <td>4.986833</td>\n",
       "      <td>259.215411</td>\n",
       "      <td>5.213675</td>\n",
       "      <td>257.221981</td>\n",
       "      <td>...</td>\n",
       "      <td>260.485870</td>\n",
       "      <td>0.06</td>\n",
       "      <td>0.06</td>\n",
       "      <td>0.06</td>\n",
       "      <td>0.06</td>\n",
       "      <td>0.06</td>\n",
       "      <td>0.06</td>\n",
       "      <td>0.06</td>\n",
       "      <td>0.06</td>\n",
       "      <td>0.06</td>\n",
       "    </tr>\n",
       "    <tr>\n",
       "      <th>2</th>\n",
       "      <td>2020-01-01 00:00:02+00:00</td>\n",
       "      <td>2.0</td>\n",
       "      <td>5.176005</td>\n",
       "      <td>258.246434</td>\n",
       "      <td>5.418013</td>\n",
       "      <td>258.010240</td>\n",
       "      <td>5.313580</td>\n",
       "      <td>259.354650</td>\n",
       "      <td>5.425347</td>\n",
       "      <td>258.240936</td>\n",
       "      <td>...</td>\n",
       "      <td>260.095186</td>\n",
       "      <td>0.06</td>\n",
       "      <td>0.06</td>\n",
       "      <td>0.06</td>\n",
       "      <td>0.06</td>\n",
       "      <td>0.06</td>\n",
       "      <td>0.06</td>\n",
       "      <td>0.06</td>\n",
       "      <td>0.06</td>\n",
       "      <td>0.06</td>\n",
       "    </tr>\n",
       "    <tr>\n",
       "      <th>3</th>\n",
       "      <td>2020-01-01 00:00:03+00:00</td>\n",
       "      <td>3.0</td>\n",
       "      <td>5.521151</td>\n",
       "      <td>258.639036</td>\n",
       "      <td>5.631097</td>\n",
       "      <td>257.678900</td>\n",
       "      <td>4.797626</td>\n",
       "      <td>259.169821</td>\n",
       "      <td>4.920681</td>\n",
       "      <td>258.307851</td>\n",
       "      <td>...</td>\n",
       "      <td>260.605581</td>\n",
       "      <td>0.06</td>\n",
       "      <td>0.06</td>\n",
       "      <td>0.06</td>\n",
       "      <td>0.06</td>\n",
       "      <td>0.06</td>\n",
       "      <td>0.06</td>\n",
       "      <td>0.06</td>\n",
       "      <td>0.06</td>\n",
       "      <td>0.06</td>\n",
       "    </tr>\n",
       "    <tr>\n",
       "      <th>4</th>\n",
       "      <td>2020-01-01 00:00:04+00:00</td>\n",
       "      <td>4.0</td>\n",
       "      <td>5.062260</td>\n",
       "      <td>258.502140</td>\n",
       "      <td>5.508473</td>\n",
       "      <td>257.622377</td>\n",
       "      <td>4.791141</td>\n",
       "      <td>260.041813</td>\n",
       "      <td>5.299128</td>\n",
       "      <td>258.035137</td>\n",
       "      <td>...</td>\n",
       "      <td>259.657986</td>\n",
       "      <td>0.06</td>\n",
       "      <td>0.06</td>\n",
       "      <td>0.06</td>\n",
       "      <td>0.06</td>\n",
       "      <td>0.06</td>\n",
       "      <td>0.06</td>\n",
       "      <td>0.06</td>\n",
       "      <td>0.06</td>\n",
       "      <td>0.06</td>\n",
       "    </tr>\n",
       "  </tbody>\n",
       "</table>\n",
       "<p>5 rows × 29 columns</p>\n",
       "</div>"
      ],
      "text/plain": [
       "                   time_utc  time    ws_000      wd_000    ws_001      wd_001  \\\n",
       "0 2020-01-01 00:00:00+00:00   0.0  5.194652  257.866496  5.735255  257.556459   \n",
       "1 2020-01-01 00:00:01+00:00   1.0  5.409134  258.125170  5.342446  257.252453   \n",
       "2 2020-01-01 00:00:02+00:00   2.0  5.176005  258.246434  5.418013  258.010240   \n",
       "3 2020-01-01 00:00:03+00:00   3.0  5.521151  258.639036  5.631097  257.678900   \n",
       "4 2020-01-01 00:00:04+00:00   4.0  5.062260  258.502140  5.508473  257.622377   \n",
       "\n",
       "     ws_002      wd_002    ws_003      wd_003  ...      wd_008  ti_000  \\\n",
       "0  5.665961  260.036140  5.203549  258.051970  ...  260.244906    0.06   \n",
       "1  4.986833  259.215411  5.213675  257.221981  ...  260.485870    0.06   \n",
       "2  5.313580  259.354650  5.425347  258.240936  ...  260.095186    0.06   \n",
       "3  4.797626  259.169821  4.920681  258.307851  ...  260.605581    0.06   \n",
       "4  4.791141  260.041813  5.299128  258.035137  ...  259.657986    0.06   \n",
       "\n",
       "   ti_001  ti_002  ti_003  ti_004  ti_005  ti_006  ti_007  ti_008  \n",
       "0    0.06    0.06    0.06    0.06    0.06    0.06    0.06    0.06  \n",
       "1    0.06    0.06    0.06    0.06    0.06    0.06    0.06    0.06  \n",
       "2    0.06    0.06    0.06    0.06    0.06    0.06    0.06    0.06  \n",
       "3    0.06    0.06    0.06    0.06    0.06    0.06    0.06    0.06  \n",
       "4    0.06    0.06    0.06    0.06    0.06    0.06    0.06    0.06  \n",
       "\n",
       "[5 rows x 29 columns]"
      ]
     },
     "execution_count": 25,
     "metadata": {},
     "output_type": "execute_result"
    }
   ],
   "source": [
    "df_turbine_input.head()"
   ]
  },
  {
   "cell_type": "code",
   "execution_count": 26,
   "metadata": {},
   "outputs": [],
   "source": [
    "df_turbine_input.to_pickle(\"inputs/wind_input.p\")"
   ]
  }
 ],
 "metadata": {
  "kernelspec": {
   "display_name": "hercules",
   "language": "python",
   "name": "python3"
  },
  "language_info": {
   "codemirror_mode": {
    "name": "ipython",
    "version": 3
   },
   "file_extension": ".py",
   "mimetype": "text/x-python",
   "name": "python",
   "nbconvert_exporter": "python",
   "pygments_lexer": "ipython3",
   "version": "3.11.10"
  }
 },
 "nbformat": 4,
 "nbformat_minor": 2
}
